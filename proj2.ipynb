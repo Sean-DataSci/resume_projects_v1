{
 "cells": [
  {
   "cell_type": "code",
   "execution_count": 1,
   "metadata": {
    "deletable": false,
    "editable": false
   },
   "outputs": [],
   "source": [
    "# Initialize Otter\n",
    "import otter\n",
    "grader = otter.Notebook(\"proj2.ipynb\")"
   ]
  },
  {
   "cell_type": "markdown",
   "metadata": {},
   "source": [
    "# Project 2: Query Performance\n",
    "## Due Date: Friday 10/07, 11:59 PM\n",
    "## Assignment Details\n",
    "In this project, we will explore how the database system optimizes query execution and how users can futher tune the performance of their queries.\n",
    "\n",
    "This project works with the Lahman's Baseball Database, an open source collection of baseball statistics from 1871 to 2020. It contains a variety of data, like batting statistics, team stats, managerial records, Hall of Fame records, and much more.\n",
    "\n",
    "**Note:** If at any point during the project, the internal state of the database or its tables have been modified in an undesirable way (i.e. a modification not resulting from the instructions of a question), restart your kernel and clear output and simply re-run the notebook as normal. This will shutdown you current connection to the database, which will prevent the issue of multiple connections to the database at any given point, and when re-running the notebook you will create a fresh database based on the provided Postgres dump.\n",
    "\n",
    "## Logistics & Scoring Breakdown\n",
    "\n",
    "For Data 101 students, this project is worth 15% of your grade. For Info 258 students, this project is worth 12% of your grade.\n",
    "\n",
    "- Each coding question has **both public tests and hidden tests**. Roughly 50% of your coding grade will be made up of your score on the public tests released to you, while the remaining 50% will be made up of unreleased hidden tests.\n",
    "- Public tests for multiple choice questions are for sanity check only (e.g. you are answering in the correct format). Partial credit will be awarded.\n",
    "- Free-response questions will be manually graded. Please answer thoughtfully in complete sentences, drawing from knowledge in lectures and from your inspection of query plans.\n",
    "\n",
    "This is an **individual project**. However, you’re welcome to collaborate with any other student in the class as long as it’s within the academic honesty guidelines.\n",
    "\n",
    "Question | Points\n",
    "--- | ---\n",
    "0 | 1\n",
    "1a\t| 1\n",
    "1bi\t| 1\n",
    "1bii\t| 2\n",
    "1c\t| 1\n",
    "1di\t| 2\n",
    "1dii\t| 1\n",
    "1ei\t| 1\n",
    "1eii\t| 1\n",
    "1eiii\t| 1\n",
    "1eiv\t| 2\n",
    "1ev\t| 2\n",
    "2a\t| 1\n",
    "2b\t| 1\n",
    "2c\t| 2\n",
    "2d\t| 2\n",
    "3a\t| 1\n",
    "3b\t| 1\n",
    "3c |\t1\n",
    "3d\t| 3\n",
    "4a\t| 2\n",
    "4b\t| 1\n",
    "4c\t| 1\n",
    "4di\t| 2\n",
    "4dii |\t2\n",
    "4ei\t| 2\n",
    "4eii | \t1\n",
    "4eiii |\t2\n",
    "4eiv |\t1\n",
    "4ev |\t1\n",
    "4evi |\t2\n",
    "4evii |\t2\n",
    "5a | 2\n",
    "5b | 2\n",
    "5c | 1\n",
    "5d | 2\n",
    "6a | 2\n",
    "6b | 1\n",
    "6c | 1\n",
    "6d | 2\n",
    "6e | 2\n",
    "7a | 1\n",
    "7b | 1\n",
    "7c | 2\n",
    "8  | 6\n",
    "**Total** | 72"
   ]
  },
  {
   "cell_type": "code",
   "execution_count": 2,
   "metadata": {},
   "outputs": [],
   "source": [
    "# Run this cell to set up imports\n",
    "import numpy as np\n",
    "import pandas as pd"
   ]
  },
  {
   "cell_type": "markdown",
   "metadata": {},
   "source": [
    "## Getting Connected\n",
    "Similar to Project 1, we will be using the `ipython-sql` library to connect this notebook to a PostgreSQL database server on your JupyterHub account. Run the following cell to initiate the connection."
   ]
  },
  {
   "cell_type": "code",
   "execution_count": 3,
   "metadata": {},
   "outputs": [],
   "source": [
    "%reload_ext sql\n",
    "%sql postgresql://jovyan@127.0.0.1:5432/postgres"
   ]
  },
  {
   "cell_type": "markdown",
   "metadata": {},
   "source": [
    "## Setting up the Database\n",
    "The following cell will create the `baseball` database (if needed), unzip the Postgres dump of the Lahman's Baseball Database, populate the `baseball` database with the desired tables and data, and finally display all databases associated with the Postgres instance. After running the cell, you should see the `baseball` database in the generated list of databases outputted by `%sql \\l`.\n",
    "\n",
    "**Note:** If you run into the **role does not exist** error, feel free to ignore it. It does not affect data import."
   ]
  },
  {
   "cell_type": "code",
   "execution_count": 4,
   "metadata": {},
   "outputs": [
    {
     "name": "stdout",
     "output_type": "stream",
     "text": [
      "DROP DATABASE\n",
      "CREATE DATABASE\n",
      "SET\n",
      "SET\n",
      "SET\n",
      "SET\n",
      " set_config \n",
      "------------\n",
      " \n",
      "(1 row)\n",
      "\n",
      "SET\n",
      "SET\n",
      "SET\n",
      "CREATE EXTENSION\n",
      "COMMENT\n",
      "SET\n",
      "CREATE TABLE\n",
      "psql:<stdin>:49: ERROR:  role \"postgres\" does not exist\n",
      "CREATE TABLE\n",
      "psql:<stdin>:80: ERROR:  role \"postgres\" does not exist\n",
      "CREATE TABLE\n",
      "psql:<stdin>:96: ERROR:  role \"postgres\" does not exist\n",
      "CREATE TABLE\n",
      "psql:<stdin>:112: ERROR:  role \"postgres\" does not exist\n",
      "CREATE TABLE\n",
      "psql:<stdin>:129: ERROR:  role \"postgres\" does not exist\n",
      "CREATE TABLE\n",
      "psql:<stdin>:146: ERROR:  role \"postgres\" does not exist\n",
      "CREATE TABLE\n",
      "psql:<stdin>:178: ERROR:  role \"postgres\" does not exist\n",
      "CREATE TABLE\n",
      "psql:<stdin>:210: ERROR:  role \"postgres\" does not exist\n",
      "CREATE TABLE\n",
      "psql:<stdin>:223: ERROR:  role \"postgres\" does not exist\n",
      "CREATE TABLE\n",
      "psql:<stdin>:251: ERROR:  role \"postgres\" does not exist\n",
      "CREATE TABLE\n",
      "psql:<stdin>:267: ERROR:  role \"postgres\" does not exist\n",
      "CREATE TABLE\n",
      "psql:<stdin>:295: ERROR:  role \"postgres\" does not exist\n",
      "CREATE TABLE\n",
      "psql:<stdin>:322: ERROR:  role \"postgres\" does not exist\n",
      "CREATE TABLE\n",
      "psql:<stdin>:341: ERROR:  role \"postgres\" does not exist\n",
      "CREATE TABLE\n",
      "psql:<stdin>:360: ERROR:  role \"postgres\" does not exist\n",
      "CREATE TABLE\n",
      "psql:<stdin>:380: ERROR:  role \"postgres\" does not exist\n",
      "CREATE TABLE\n",
      "psql:<stdin>:400: ERROR:  role \"postgres\" does not exist\n",
      "CREATE TABLE\n",
      "psql:<stdin>:416: ERROR:  role \"postgres\" does not exist\n",
      "CREATE TABLE\n",
      "psql:<stdin>:450: ERROR:  role \"postgres\" does not exist\n",
      "CREATE TABLE\n",
      "psql:<stdin>:490: ERROR:  role \"postgres\" does not exist\n",
      "CREATE TABLE\n",
      "psql:<stdin>:530: ERROR:  role \"postgres\" does not exist\n",
      "CREATE TABLE\n",
      "psql:<stdin>:545: ERROR:  role \"postgres\" does not exist\n",
      "CREATE TABLE\n",
      "psql:<stdin>:560: ERROR:  role \"postgres\" does not exist\n",
      "CREATE TABLE\n",
      "psql:<stdin>:579: ERROR:  role \"postgres\" does not exist\n",
      "CREATE TABLE\n",
      "psql:<stdin>:637: ERROR:  role \"postgres\" does not exist\n",
      "CREATE TABLE\n",
      "psql:<stdin>:651: ERROR:  role \"postgres\" does not exist\n",
      "CREATE TABLE\n",
      "psql:<stdin>:671: ERROR:  role \"postgres\" does not exist\n",
      "COPY 5219\n",
      "COPY 104256\n",
      "COPY 179\n",
      "COPY 6236\n",
      "COPY 425\n",
      "COPY 6879\n",
      "COPY 104324\n",
      "COPY 13943\n",
      "COPY 17350\n",
      "COPY 138838\n",
      "COPY 12028\n",
      "COPY 31955\n",
      "COPY 13110\n",
      "COPY 4191\n",
      "COPY 3040\n",
      "COPY 3469\n",
      "COPY 93\n",
      "COPY 252\n",
      "COPY 19370\n",
      "COPY 45806\n",
      "COPY 5445\n",
      "COPY 26428\n",
      "COPY 1207\n",
      "COPY 325\n",
      "COPY 2865\n",
      "COPY 120\n",
      "COPY 52\n",
      "ALTER TABLE\n",
      "ALTER TABLE\n",
      "ALTER TABLE\n",
      "ALTER TABLE\n",
      "ALTER TABLE\n",
      "ALTER TABLE\n",
      "ALTER TABLE\n",
      "ALTER TABLE\n",
      "ALTER TABLE\n",
      "ALTER TABLE\n",
      "ALTER TABLE\n",
      "ALTER TABLE\n",
      "ALTER TABLE\n",
      "ALTER TABLE\n",
      "ALTER TABLE\n",
      "ALTER TABLE\n",
      "ALTER TABLE\n",
      "ALTER TABLE\n",
      "ALTER TABLE\n",
      "ALTER TABLE\n",
      "ALTER TABLE\n",
      "ALTER TABLE\n",
      "ALTER TABLE\n",
      "ALTER TABLE\n",
      "ALTER TABLE\n",
      "ALTER TABLE\n",
      "SET\n",
      " * postgresql://jovyan@127.0.0.1:5432/postgres\n",
      "6 rows affected.\n"
     ]
    },
    {
     "data": {
      "text/html": [
       "<table>\n",
       "    <tr>\n",
       "        <th>Name</th>\n",
       "        <th>Owner</th>\n",
       "        <th>Encoding</th>\n",
       "        <th>Collate</th>\n",
       "        <th>Ctype</th>\n",
       "        <th>Access privileges</th>\n",
       "    </tr>\n",
       "    <tr>\n",
       "        <td>baseball</td>\n",
       "        <td>jovyan</td>\n",
       "        <td>UTF8</td>\n",
       "        <td>en_US.utf8</td>\n",
       "        <td>en_US.utf8</td>\n",
       "        <td>None</td>\n",
       "    </tr>\n",
       "    <tr>\n",
       "        <td>imdb</td>\n",
       "        <td>jovyan</td>\n",
       "        <td>UTF8</td>\n",
       "        <td>en_US.utf8</td>\n",
       "        <td>en_US.utf8</td>\n",
       "        <td>None</td>\n",
       "    </tr>\n",
       "    <tr>\n",
       "        <td>jovyan</td>\n",
       "        <td>jovyan</td>\n",
       "        <td>UTF8</td>\n",
       "        <td>en_US.utf8</td>\n",
       "        <td>en_US.utf8</td>\n",
       "        <td>None</td>\n",
       "    </tr>\n",
       "    <tr>\n",
       "        <td>postgres</td>\n",
       "        <td>jovyan</td>\n",
       "        <td>UTF8</td>\n",
       "        <td>en_US.utf8</td>\n",
       "        <td>en_US.utf8</td>\n",
       "        <td>None</td>\n",
       "    </tr>\n",
       "    <tr>\n",
       "        <td>template0</td>\n",
       "        <td>jovyan</td>\n",
       "        <td>UTF8</td>\n",
       "        <td>en_US.utf8</td>\n",
       "        <td>en_US.utf8</td>\n",
       "        <td>=c/jovyan<br>jovyan=CTc/jovyan</td>\n",
       "    </tr>\n",
       "    <tr>\n",
       "        <td>template1</td>\n",
       "        <td>jovyan</td>\n",
       "        <td>UTF8</td>\n",
       "        <td>en_US.utf8</td>\n",
       "        <td>en_US.utf8</td>\n",
       "        <td>=c/jovyan<br>jovyan=CTc/jovyan</td>\n",
       "    </tr>\n",
       "</table>"
      ],
      "text/plain": [
       "[('baseball', 'jovyan', 'UTF8', 'en_US.utf8', 'en_US.utf8', None),\n",
       " ('imdb', 'jovyan', 'UTF8', 'en_US.utf8', 'en_US.utf8', None),\n",
       " ('jovyan', 'jovyan', 'UTF8', 'en_US.utf8', 'en_US.utf8', None),\n",
       " ('postgres', 'jovyan', 'UTF8', 'en_US.utf8', 'en_US.utf8', None),\n",
       " ('template0',\n",
       "  'jovyan',\n",
       "  'UTF8',\n",
       "  'en_US.utf8',\n",
       "  'en_US.utf8',\n",
       "  '=c/jovyan\\njovyan=CTc/jovyan'),\n",
       " ('template1',\n",
       "  'jovyan',\n",
       "  'UTF8',\n",
       "  'en_US.utf8',\n",
       "  'en_US.utf8',\n",
       "  '=c/jovyan\\njovyan=CTc/jovyan')]"
      ]
     },
     "execution_count": 4,
     "metadata": {},
     "output_type": "execute_result"
    }
   ],
   "source": [
    "!psql -h localhost -c 'DROP DATABASE IF EXISTS baseball'\n",
    "!psql -h localhost -c 'CREATE DATABASE baseball'\n",
    "!gzip -dc data/lahman.pgdump.gz | psql -h localhost -d baseball -f -\n",
    "!psql -h localhost -c 'SET max_parallel_workers_per_gather = 0;'\n",
    "%sql \\l"
   ]
  },
  {
   "cell_type": "markdown",
   "metadata": {},
   "source": [
    "Now, run the following cell to connect to the `baseball` database. There should be no errors after running the following cell."
   ]
  },
  {
   "cell_type": "code",
   "execution_count": 4,
   "metadata": {},
   "outputs": [],
   "source": [
    "%sql postgresql://jovyan@127.0.0.1:5432/baseball"
   ]
  },
  {
   "cell_type": "markdown",
   "metadata": {},
   "source": [
    "To ensure that the connection to the database has been established, let's try grabbing the first 5 rows from the `halloffame` table."
   ]
  },
  {
   "cell_type": "code",
   "execution_count": 5,
   "metadata": {},
   "outputs": [
    {
     "name": "stdout",
     "output_type": "stream",
     "text": [
      " * postgresql://jovyan@127.0.0.1:5432/baseball\n",
      "   postgresql://jovyan@127.0.0.1:5432/postgres\n",
      "5 rows affected.\n"
     ]
    },
    {
     "data": {
      "text/html": [
       "<table>\n",
       "    <tr>\n",
       "        <th>playerid</th>\n",
       "        <th>yearid</th>\n",
       "        <th>votedby</th>\n",
       "        <th>ballots</th>\n",
       "        <th>needed</th>\n",
       "        <th>votes</th>\n",
       "        <th>inducted</th>\n",
       "        <th>category</th>\n",
       "        <th>needed_note</th>\n",
       "    </tr>\n",
       "    <tr>\n",
       "        <td>cobbty01</td>\n",
       "        <td>1936</td>\n",
       "        <td>BBWAA</td>\n",
       "        <td>226</td>\n",
       "        <td>170</td>\n",
       "        <td>222</td>\n",
       "        <td>Y</td>\n",
       "        <td>Player</td>\n",
       "        <td>None</td>\n",
       "    </tr>\n",
       "    <tr>\n",
       "        <td>ruthba01</td>\n",
       "        <td>1936</td>\n",
       "        <td>BBWAA</td>\n",
       "        <td>226</td>\n",
       "        <td>170</td>\n",
       "        <td>215</td>\n",
       "        <td>Y</td>\n",
       "        <td>Player</td>\n",
       "        <td>None</td>\n",
       "    </tr>\n",
       "    <tr>\n",
       "        <td>wagneho01</td>\n",
       "        <td>1936</td>\n",
       "        <td>BBWAA</td>\n",
       "        <td>226</td>\n",
       "        <td>170</td>\n",
       "        <td>215</td>\n",
       "        <td>Y</td>\n",
       "        <td>Player</td>\n",
       "        <td>None</td>\n",
       "    </tr>\n",
       "    <tr>\n",
       "        <td>mathech01</td>\n",
       "        <td>1936</td>\n",
       "        <td>BBWAA</td>\n",
       "        <td>226</td>\n",
       "        <td>170</td>\n",
       "        <td>205</td>\n",
       "        <td>Y</td>\n",
       "        <td>Player</td>\n",
       "        <td>None</td>\n",
       "    </tr>\n",
       "    <tr>\n",
       "        <td>johnswa01</td>\n",
       "        <td>1936</td>\n",
       "        <td>BBWAA</td>\n",
       "        <td>226</td>\n",
       "        <td>170</td>\n",
       "        <td>189</td>\n",
       "        <td>Y</td>\n",
       "        <td>Player</td>\n",
       "        <td>None</td>\n",
       "    </tr>\n",
       "</table>"
      ],
      "text/plain": [
       "[('cobbty01', 1936, 'BBWAA', 226, 170, 222, 'Y', 'Player', None),\n",
       " ('ruthba01', 1936, 'BBWAA', 226, 170, 215, 'Y', 'Player', None),\n",
       " ('wagneho01', 1936, 'BBWAA', 226, 170, 215, 'Y', 'Player', None),\n",
       " ('mathech01', 1936, 'BBWAA', 226, 170, 205, 'Y', 'Player', None),\n",
       " ('johnswa01', 1936, 'BBWAA', 226, 170, 189, 'Y', 'Player', None)]"
      ]
     },
     "execution_count": 5,
     "metadata": {},
     "output_type": "execute_result"
    }
   ],
   "source": [
    "%%sql\n",
    "SELECT * FROM halloffame LIMIT 5"
   ]
  },
  {
   "cell_type": "markdown",
   "metadata": {},
   "source": [
    "Run the following cell for grading purposes."
   ]
  },
  {
   "cell_type": "code",
   "execution_count": 6,
   "metadata": {},
   "outputs": [],
   "source": [
    "!mkdir -p results"
   ]
  },
  {
   "cell_type": "markdown",
   "metadata": {},
   "source": [
    "## Table Descriptions\n",
    "In its entirety the Lahman's Baseball Database contains 27 tables containing a variety of statistics for players, teams, games, schools, etc. For simplicity, this project will focus on a subset of the tables:\n",
    "* `appearances`: details on the positions each player appeared at\n",
    "* `batting`: batting statistics for each player\n",
    "* `collegeplaying`: list of players and the colleges they attended\n",
    "* `halloffame`: Hall of Fame voting data\n",
    "* `people`: player information (name, date of birth, and biographical info)\n",
    "* `salaries`: player salary data\n",
    "* `schools`: list of colleges that players attended\n",
    "\n",
    "As a reminder from Project 1, `%sql \\d <table_name>` is helpful for identifying the columns in a table."
   ]
  },
  {
   "cell_type": "markdown",
   "metadata": {
    "deletable": false,
    "editable": false
   },
   "source": [
    "## Question 0: PostgreSQL Explain Analyze\n",
    "**Please read through this section carefully, as a vast majority of the project will require you to inspect query plans via interpreting the output of the explain analyze command.**\n",
    "\n",
    "To inspect the query plan for a given query, create a variable storing the query as a string and invoke a `psql` shell command to `explain analyze` the query: \n",
    "\n",
    "`your_variable = \"__REPLACE_ME_WITH_QUERY__\"`\n",
    "\n",
    "`!psql -h localhost -d baseball -c \"explain analyze $your_variable\"`\n",
    "\n",
    "Take a look at the following sample query plan.\n",
    "\n",
    "![title](data/sample_query.png)\n",
    "\n",
    "It is highly recommended to read through [this article](https://www.cybertec-postgresql.com/en/how-to-interpret-postgresql-explain-analyze-output/) to see how you can interpret the output above. Everything before \"Tools to interpret Explain Analyze output\" is useful.\n",
    "\n",
    "Here are some key things to note:\n",
    "- There are two cost values: the first is the **startup cost** (cost to return the first row) and the second is the **total cost** (cost to return all rows).\n",
    "- The unit for the estimated query cost is arbitrary (1 is the cost for reading an 8kB page during a sequential scan)\n",
    "- When we ask you to identify the query cost, we are looking for the **total cost**\n",
    "- When we ask you to identify the query time, we are looking for the **execution time** (in ms)\n",
    "- Feel free to round the query cost / time to the nearest integer, but we'll accept anything more exact\n",
    "- We recognzie that the execution time may vary between different cell executions, so the autograder will tolerate a reasonable range\n",
    "\n",
    "Now, inspect the query plan above, and record the **cost** and **time** for the sample query.\n",
    "\n",
    "<!--\n",
    "BEGIN QUESTION\n",
    "name: q0\n",
    "points: 1\n",
    "-->"
   ]
  },
  {
   "cell_type": "code",
   "execution_count": 7,
   "metadata": {},
   "outputs": [],
   "source": [
    "sample_query_cost = 1193.88\n",
    "sample_query_timing = 185.896"
   ]
  },
  {
   "cell_type": "code",
   "execution_count": 8,
   "metadata": {
    "deletable": false,
    "editable": false
   },
   "outputs": [
    {
     "data": {
      "text/html": [
       "<p><strong><pre style='display: inline;'>q0</pre></strong> passed!</p>"
      ],
      "text/plain": [
       "q0 results: All test cases passed!"
      ]
     },
     "execution_count": 8,
     "metadata": {},
     "output_type": "execute_result"
    }
   ],
   "source": [
    "grader.check(\"q0\")"
   ]
  },
  {
   "cell_type": "markdown",
   "metadata": {},
   "source": [
    "## Question 1: Queries and Views\n",
    "### Question 1a:\n",
    "Write a query that finds `namefirst`, `namelast`, `playerid` and `yearid` of all people who were successfully inducted into the Hall of Fame. **Note**: Your query should **NOT** use any sub-queries."
   ]
  },
  {
   "cell_type": "code",
   "execution_count": 9,
   "metadata": {},
   "outputs": [
    {
     "name": "stdout",
     "output_type": "stream",
     "text": [
      " * postgresql://jovyan@127.0.0.1:5432/baseball\n",
      "   postgresql://jovyan@127.0.0.1:5432/postgres\n",
      "10 rows affected.\n"
     ]
    },
    {
     "data": {
      "text/html": [
       "<table>\n",
       "    <tr>\n",
       "        <th>namefirst</th>\n",
       "        <th>namelast</th>\n",
       "        <th>playerid</th>\n",
       "        <th>yearid</th>\n",
       "    </tr>\n",
       "    <tr>\n",
       "        <td>Ty</td>\n",
       "        <td>Cobb</td>\n",
       "        <td>cobbty01</td>\n",
       "        <td>1936</td>\n",
       "    </tr>\n",
       "    <tr>\n",
       "        <td>Babe</td>\n",
       "        <td>Ruth</td>\n",
       "        <td>ruthba01</td>\n",
       "        <td>1936</td>\n",
       "    </tr>\n",
       "    <tr>\n",
       "        <td>Honus</td>\n",
       "        <td>Wagner</td>\n",
       "        <td>wagneho01</td>\n",
       "        <td>1936</td>\n",
       "    </tr>\n",
       "    <tr>\n",
       "        <td>Christy</td>\n",
       "        <td>Mathewson</td>\n",
       "        <td>mathech01</td>\n",
       "        <td>1936</td>\n",
       "    </tr>\n",
       "    <tr>\n",
       "        <td>Walter</td>\n",
       "        <td>Johnson</td>\n",
       "        <td>johnswa01</td>\n",
       "        <td>1936</td>\n",
       "    </tr>\n",
       "    <tr>\n",
       "        <td>Nap</td>\n",
       "        <td>Lajoie</td>\n",
       "        <td>lajoina01</td>\n",
       "        <td>1937</td>\n",
       "    </tr>\n",
       "    <tr>\n",
       "        <td>Tris</td>\n",
       "        <td>Speaker</td>\n",
       "        <td>speaktr01</td>\n",
       "        <td>1937</td>\n",
       "    </tr>\n",
       "    <tr>\n",
       "        <td>Cy</td>\n",
       "        <td>Young</td>\n",
       "        <td>youngcy01</td>\n",
       "        <td>1937</td>\n",
       "    </tr>\n",
       "    <tr>\n",
       "        <td>Morgan</td>\n",
       "        <td>Bulkeley</td>\n",
       "        <td>bulkemo99</td>\n",
       "        <td>1937</td>\n",
       "    </tr>\n",
       "    <tr>\n",
       "        <td>Ban</td>\n",
       "        <td>Johnson</td>\n",
       "        <td>johnsba99</td>\n",
       "        <td>1937</td>\n",
       "    </tr>\n",
       "</table>"
      ],
      "text/plain": [
       "[('Ty', 'Cobb', 'cobbty01', 1936),\n",
       " ('Babe', 'Ruth', 'ruthba01', 1936),\n",
       " ('Honus', 'Wagner', 'wagneho01', 1936),\n",
       " ('Christy', 'Mathewson', 'mathech01', 1936),\n",
       " ('Walter', 'Johnson', 'johnswa01', 1936),\n",
       " ('Nap', 'Lajoie', 'lajoina01', 1937),\n",
       " ('Tris', 'Speaker', 'speaktr01', 1937),\n",
       " ('Cy', 'Young', 'youngcy01', 1937),\n",
       " ('Morgan', 'Bulkeley', 'bulkemo99', 1937),\n",
       " ('Ban', 'Johnson', 'johnsba99', 1937)]"
      ]
     },
     "execution_count": 9,
     "metadata": {},
     "output_type": "execute_result"
    }
   ],
   "source": [
    "%%sql\n",
    "SELECT namefirst,namelast,halloffame.playerid,yearid\n",
    "FROM halloffame\n",
    "JOIN people\n",
    "ON halloffame.playerid = people.playerid AND halloffame.inducted = 'Y'\n",
    "LIMIT 10;"
   ]
  },
  {
   "cell_type": "code",
   "execution_count": 10,
   "metadata": {},
   "outputs": [
    {
     "name": "stdout",
     "output_type": "stream",
     "text": [
      " * postgresql://jovyan@127.0.0.1:5432/baseball\n",
      "   postgresql://jovyan@127.0.0.1:5432/postgres\n",
      "323 rows affected.\n",
      "Returning data to local variable result_1a\n"
     ]
    }
   ],
   "source": [
    "%%sql result_1a <<\n",
    "SELECT namefirst,namelast,halloffame.playerid,yearid\n",
    "FROM halloffame\n",
    "JOIN people\n",
    "ON halloffame.playerid = people.playerid AND halloffame.inducted = 'Y'"
   ]
  },
  {
   "cell_type": "code",
   "execution_count": 11,
   "metadata": {},
   "outputs": [],
   "source": [
    "# Do not delete/edit this cell\n",
    "result_1a.DataFrame().sort_values(['playerid', 'yearid']).to_csv('results/result_1a.csv', index=False)"
   ]
  },
  {
   "cell_type": "code",
   "execution_count": 12,
   "metadata": {
    "deletable": false,
    "editable": false
   },
   "outputs": [
    {
     "data": {
      "text/html": [
       "<p><strong><pre style='display: inline;'>q1a</pre></strong> passed!</p>"
      ],
      "text/plain": [
       "q1a results: All test cases passed!"
      ]
     },
     "execution_count": 12,
     "metadata": {},
     "output_type": "execute_result"
    }
   ],
   "source": [
    "grader.check(\"q1a\")"
   ]
  },
  {
   "cell_type": "markdown",
   "metadata": {},
   "source": [
    "### Question 1b:\n",
    "In this question, we will compare the query you wrote in `Question 1a` against the provided query in `Question 1bi` by inspecting the query plans.\n",
    "\n",
    "#### Question 1bi: \n",
    "Inspect the query plan for `provided_query` and the query you wrote in `Question 1a`. Record the **execution time** and **cost** for each query."
   ]
  },
  {
   "cell_type": "code",
   "execution_count": 13,
   "metadata": {},
   "outputs": [
    {
     "name": "stdout",
     "output_type": "stream",
     "text": [
      " * postgresql://jovyan@127.0.0.1:5432/baseball\n",
      "   postgresql://jovyan@127.0.0.1:5432/postgres\n",
      "323 rows affected.\n",
      "Returning data to local variable provided_query\n"
     ]
    }
   ],
   "source": [
    "%%sql provided_query <<\n",
    "SELECT namefirst, namelast, p.playerid, yearid\n",
    "FROM people AS p, (SELECT * FROM halloffame WHERE inducted = 'Y') AS hof \n",
    "WHERE p.playerid = hof.playerid;"
   ]
  },
  {
   "cell_type": "code",
   "execution_count": 14,
   "metadata": {},
   "outputs": [
    {
     "name": "stdout",
     "output_type": "stream",
     "text": [
      "                                                       QUERY PLAN                                                        \r\n",
      "-------------------------------------------------------------------------------------------------------------------------\r\n",
      " Hash Join  (cost=861.83..959.06 rows=323 width=25) (actual time=14.250..15.510 rows=323 loops=1)\r\n",
      "   Hash Cond: ((halloffame.playerid)::text = (p.playerid)::text)\r\n",
      "   ->  Seq Scan on halloffame  (cost=0.00..96.39 rows=323 width=13) (actual time=0.011..1.006 rows=323 loops=1)\r\n",
      "         Filter: ((inducted)::text = 'Y'::text)\r\n",
      "         Rows Removed by Filter: 3868\r\n",
      "   ->  Hash  (cost=619.70..619.70 rows=19370 width=21) (actual time=14.021..14.023 rows=19370 loops=1)\r\n",
      "         Buckets: 32768  Batches: 1  Memory Usage: 1293kB\r\n",
      "         ->  Seq Scan on people p  (cost=0.00..619.70 rows=19370 width=21) (actual time=0.009..6.690 rows=19370 loops=1)\r\n",
      " Planning Time: 1.332 ms\r\n",
      " Execution Time: 15.642 ms\r\n",
      "(10 rows)\r\n",
      "\r\n"
     ]
    }
   ],
   "source": [
    "provided_query_str = \"SELECT namefirst, namelast, p.playerid, yearid FROM people AS p, (SELECT * FROM halloffame WHERE inducted = 'Y') AS hof WHERE hof.inducted = 'Y' AND p.playerid = hof.playerid;\"\n",
    "!psql -h localhost -d baseball -c \"explain analyze $provided_query_str\""
   ]
  },
  {
   "cell_type": "code",
   "execution_count": 15,
   "metadata": {},
   "outputs": [
    {
     "name": "stdout",
     "output_type": "stream",
     "text": [
      "                                                      QUERY PLAN                                                       \r\n",
      "-----------------------------------------------------------------------------------------------------------------------\r\n",
      " Hash Join  (cost=861.83..959.06 rows=323 width=25) (actual time=13.622..14.779 rows=323 loops=1)\r\n",
      "   Hash Cond: ((halloffame.playerid)::text = (people.playerid)::text)\r\n",
      "   ->  Seq Scan on halloffame  (cost=0.00..96.39 rows=323 width=13) (actual time=0.011..0.950 rows=323 loops=1)\r\n",
      "         Filter: ((inducted)::text = 'Y'::text)\r\n",
      "         Rows Removed by Filter: 3868\r\n",
      "   ->  Hash  (cost=619.70..619.70 rows=19370 width=21) (actual time=13.352..13.354 rows=19370 loops=1)\r\n",
      "         Buckets: 32768  Batches: 1  Memory Usage: 1293kB\r\n",
      "         ->  Seq Scan on people  (cost=0.00..619.70 rows=19370 width=21) (actual time=0.014..6.585 rows=19370 loops=1)\r\n",
      " Planning Time: 1.408 ms\r\n",
      " Execution Time: 14.930 ms\r\n",
      "(10 rows)\r\n",
      "\r\n"
     ]
    }
   ],
   "source": [
    "inducted_hof_query_str = \"SELECT namefirst,namelast,halloffame.playerid,yearid FROM halloffame JOIN people ON halloffame.playerid = people.playerid AND halloffame.inducted = 'Y'\"\n",
    "!psql -h localhost -d baseball -c \"explain analyze $inducted_hof_query_str\""
   ]
  },
  {
   "cell_type": "code",
   "execution_count": 16,
   "metadata": {},
   "outputs": [],
   "source": [
    "provided_query_cost = 959.06\n",
    "provided_query_timing = 11.742\n",
    "your_query_cost = 959.06\n",
    "your_query_timing = 10.925"
   ]
  },
  {
   "cell_type": "code",
   "execution_count": 17,
   "metadata": {
    "deletable": false,
    "editable": false
   },
   "outputs": [
    {
     "data": {
      "text/html": [
       "<p><strong><pre style='display: inline;'>q1bi</pre></strong> passed!</p>"
      ],
      "text/plain": [
       "q1bi results: All test cases passed!"
      ]
     },
     "execution_count": 17,
     "metadata": {},
     "output_type": "execute_result"
    }
   ],
   "source": [
    "grader.check(\"q1bi\")"
   ]
  },
  {
   "cell_type": "markdown",
   "metadata": {
    "deletable": false,
    "editable": false
   },
   "source": [
    "#### Question 1bii:\n",
    "Given your findings from inspecting the query plans of the two queries, answer the following question. Assign the variable `q1b_part2` to a list of answer choices which are true statements.\n",
    "\n",
    "1. Consider the following statements:\n",
    "    1. Both the queries have the same cost.\n",
    "    1. The provided query has a faster execution time because it makes use of a subquery.\n",
    "    1. The query you wrote has a faster execution time because it does not make use a subquery.\n",
    "    1. The provided query has less cost because it makes use of a subquery.\n",
    "    1. The query you wrote has less cost because it does not make use a subquery.\n",
    "    1. The queries have the same output.\n",
    "    1. The queries do not have the same output.\n",
    "    \n",
    "**Note:** Your answer should look like `q1b_part2 = ['A', 'B']`\n",
    "\n",
    "<!--\n",
    "BEGIN QUESTION\n",
    "name: q1bii\n",
    "points: 2\n",
    "-->"
   ]
  },
  {
   "cell_type": "code",
   "execution_count": 18,
   "metadata": {},
   "outputs": [],
   "source": [
    "q1b_part2 = ['A', 'C', 'F']"
   ]
  },
  {
   "cell_type": "code",
   "execution_count": 19,
   "metadata": {
    "deletable": false,
    "editable": false
   },
   "outputs": [
    {
     "data": {
      "text/html": [
       "<p><strong><pre style='display: inline;'>q1bii</pre></strong> passed!</p>"
      ],
      "text/plain": [
       "q1bii results: All test cases passed!"
      ]
     },
     "execution_count": 19,
     "metadata": {},
     "output_type": "execute_result"
    }
   ],
   "source": [
    "grader.check(\"q1bii\")"
   ]
  },
  {
   "cell_type": "markdown",
   "metadata": {},
   "source": [
    "### Question 1c:\n",
    "Write a query that creates a view named `inducted_hof_ca` of the people who were successfully inducted into the Hall of Fame and played in college at a school located in California. For each player, return their `namefirst`, `namelast`, `playerid`, `schoolid`, and `yearid` ordered by the `yearid` and then the `playerid`. \n",
    "\n",
    "**Note**: For this query, `yearid` refers to player's year of induction into the Hall of Fame."
   ]
  },
  {
   "cell_type": "code",
   "execution_count": 20,
   "metadata": {},
   "outputs": [
    {
     "name": "stdout",
     "output_type": "stream",
     "text": [
      " * postgresql://jovyan@127.0.0.1:5432/baseball\n",
      "   postgresql://jovyan@127.0.0.1:5432/postgres\n",
      "23 rows affected.\n"
     ]
    },
    {
     "data": {
      "text/html": [
       "<table>\n",
       "    <tr>\n",
       "        <th>namefirst</th>\n",
       "        <th>namelast</th>\n",
       "        <th>playerid</th>\n",
       "        <th>schoolid</th>\n",
       "        <th>yearid</th>\n",
       "    </tr>\n",
       "    <tr>\n",
       "        <td>Jackie</td>\n",
       "        <td>Robinson</td>\n",
       "        <td>robinja02</td>\n",
       "        <td>ucla</td>\n",
       "        <td>1962</td>\n",
       "    </tr>\n",
       "    <tr>\n",
       "        <td>Harry</td>\n",
       "        <td>Hooper</td>\n",
       "        <td>hoopeha01</td>\n",
       "        <td>stmarysca</td>\n",
       "        <td>1971</td>\n",
       "    </tr>\n",
       "    <tr>\n",
       "        <td>Joe</td>\n",
       "        <td>Morgan</td>\n",
       "        <td>morgajo02</td>\n",
       "        <td>camerri</td>\n",
       "        <td>1990</td>\n",
       "    </tr>\n",
       "    <tr>\n",
       "        <td>Tom</td>\n",
       "        <td>Seaver</td>\n",
       "        <td>seaveto01</td>\n",
       "        <td>usc</td>\n",
       "        <td>1992</td>\n",
       "    </tr>\n",
       "    <tr>\n",
       "        <td>Tom</td>\n",
       "        <td>Seaver</td>\n",
       "        <td>seaveto01</td>\n",
       "        <td>cafrecc</td>\n",
       "        <td>1992</td>\n",
       "    </tr>\n",
       "    <tr>\n",
       "        <td>Ozzie</td>\n",
       "        <td>Smith</td>\n",
       "        <td>smithoz01</td>\n",
       "        <td>calpoly</td>\n",
       "        <td>2002</td>\n",
       "    </tr>\n",
       "    <tr>\n",
       "        <td>Ozzie</td>\n",
       "        <td>Smith</td>\n",
       "        <td>smithoz01</td>\n",
       "        <td>calpoly</td>\n",
       "        <td>2002</td>\n",
       "    </tr>\n",
       "    <tr>\n",
       "        <td>Ozzie</td>\n",
       "        <td>Smith</td>\n",
       "        <td>smithoz01</td>\n",
       "        <td>calpoly</td>\n",
       "        <td>2002</td>\n",
       "    </tr>\n",
       "    <tr>\n",
       "        <td>Ozzie</td>\n",
       "        <td>Smith</td>\n",
       "        <td>smithoz01</td>\n",
       "        <td>calpoly</td>\n",
       "        <td>2002</td>\n",
       "    </tr>\n",
       "    <tr>\n",
       "        <td>Tony</td>\n",
       "        <td>Gwynn</td>\n",
       "        <td>gwynnto01</td>\n",
       "        <td>sandiegost</td>\n",
       "        <td>2007</td>\n",
       "    </tr>\n",
       "    <tr>\n",
       "        <td>Tony</td>\n",
       "        <td>Gwynn</td>\n",
       "        <td>gwynnto01</td>\n",
       "        <td>sandiegost</td>\n",
       "        <td>2007</td>\n",
       "    </tr>\n",
       "    <tr>\n",
       "        <td>Tony</td>\n",
       "        <td>Gwynn</td>\n",
       "        <td>gwynnto01</td>\n",
       "        <td>sandiegost</td>\n",
       "        <td>2007</td>\n",
       "    </tr>\n",
       "    <tr>\n",
       "        <td>Dick</td>\n",
       "        <td>Williams</td>\n",
       "        <td>willidi02</td>\n",
       "        <td>capasad</td>\n",
       "        <td>2008</td>\n",
       "    </tr>\n",
       "    <tr>\n",
       "        <td>Doug</td>\n",
       "        <td>Harvey</td>\n",
       "        <td>harvedo99</td>\n",
       "        <td>sandiegost</td>\n",
       "        <td>2010</td>\n",
       "    </tr>\n",
       "    <tr>\n",
       "        <td>Doug</td>\n",
       "        <td>Harvey</td>\n",
       "        <td>harvedo99</td>\n",
       "        <td>sandiegost</td>\n",
       "        <td>2010</td>\n",
       "    </tr>\n",
       "    <tr>\n",
       "        <td>Pat</td>\n",
       "        <td>Gillick</td>\n",
       "        <td>gillipa99</td>\n",
       "        <td>usc</td>\n",
       "        <td>2011</td>\n",
       "    </tr>\n",
       "    <tr>\n",
       "        <td>Pat</td>\n",
       "        <td>Gillick</td>\n",
       "        <td>gillipa99</td>\n",
       "        <td>usc</td>\n",
       "        <td>2011</td>\n",
       "    </tr>\n",
       "    <tr>\n",
       "        <td>Pat</td>\n",
       "        <td>Gillick</td>\n",
       "        <td>gillipa99</td>\n",
       "        <td>calavco</td>\n",
       "        <td>2011</td>\n",
       "    </tr>\n",
       "    <tr>\n",
       "        <td>Randy</td>\n",
       "        <td>Johnson</td>\n",
       "        <td>johnsra05</td>\n",
       "        <td>usc</td>\n",
       "        <td>2015</td>\n",
       "    </tr>\n",
       "    <tr>\n",
       "        <td>Randy</td>\n",
       "        <td>Johnson</td>\n",
       "        <td>johnsra05</td>\n",
       "        <td>usc</td>\n",
       "        <td>2015</td>\n",
       "    </tr>\n",
       "    <tr>\n",
       "        <td>Randy</td>\n",
       "        <td>Johnson</td>\n",
       "        <td>johnsra05</td>\n",
       "        <td>usc</td>\n",
       "        <td>2015</td>\n",
       "    </tr>\n",
       "    <tr>\n",
       "        <td>Trevor</td>\n",
       "        <td>Hoffman</td>\n",
       "        <td>hoffmtr01</td>\n",
       "        <td>cacypre</td>\n",
       "        <td>2018</td>\n",
       "    </tr>\n",
       "    <tr>\n",
       "        <td>Trevor</td>\n",
       "        <td>Hoffman</td>\n",
       "        <td>hoffmtr01</td>\n",
       "        <td>cacypre</td>\n",
       "        <td>2018</td>\n",
       "    </tr>\n",
       "</table>"
      ],
      "text/plain": [
       "[('Jackie', 'Robinson', 'robinja02', 'ucla', 1962),\n",
       " ('Harry', 'Hooper', 'hoopeha01', 'stmarysca', 1971),\n",
       " ('Joe', 'Morgan', 'morgajo02', 'camerri', 1990),\n",
       " ('Tom', 'Seaver', 'seaveto01', 'usc', 1992),\n",
       " ('Tom', 'Seaver', 'seaveto01', 'cafrecc', 1992),\n",
       " ('Ozzie', 'Smith', 'smithoz01', 'calpoly', 2002),\n",
       " ('Ozzie', 'Smith', 'smithoz01', 'calpoly', 2002),\n",
       " ('Ozzie', 'Smith', 'smithoz01', 'calpoly', 2002),\n",
       " ('Ozzie', 'Smith', 'smithoz01', 'calpoly', 2002),\n",
       " ('Tony', 'Gwynn', 'gwynnto01', 'sandiegost', 2007),\n",
       " ('Tony', 'Gwynn', 'gwynnto01', 'sandiegost', 2007),\n",
       " ('Tony', 'Gwynn', 'gwynnto01', 'sandiegost', 2007),\n",
       " ('Dick', 'Williams', 'willidi02', 'capasad', 2008),\n",
       " ('Doug', 'Harvey', 'harvedo99', 'sandiegost', 2010),\n",
       " ('Doug', 'Harvey', 'harvedo99', 'sandiegost', 2010),\n",
       " ('Pat', 'Gillick', 'gillipa99', 'usc', 2011),\n",
       " ('Pat', 'Gillick', 'gillipa99', 'usc', 2011),\n",
       " ('Pat', 'Gillick', 'gillipa99', 'calavco', 2011),\n",
       " ('Randy', 'Johnson', 'johnsra05', 'usc', 2015),\n",
       " ('Randy', 'Johnson', 'johnsra05', 'usc', 2015),\n",
       " ('Randy', 'Johnson', 'johnsra05', 'usc', 2015),\n",
       " ('Trevor', 'Hoffman', 'hoffmtr01', 'cacypre', 2018),\n",
       " ('Trevor', 'Hoffman', 'hoffmtr01', 'cacypre', 2018)]"
      ]
     },
     "execution_count": 20,
     "metadata": {},
     "output_type": "execute_result"
    }
   ],
   "source": [
    "%%sql\n",
    "WITH ca_players AS (\n",
    "SELECT cp.playerid, cp.schoolid\n",
    "FROM collegeplaying AS cp\n",
    "JOIN schools AS s\n",
    "ON cp.schoolid = s.schoolid\n",
    "AND s.schoolstate = 'CA'\n",
    "),\n",
    "hof AS (\n",
    "SELECT namefirst,namelast,halloffame.playerid,yearid\n",
    "FROM halloffame\n",
    "JOIN people\n",
    "ON halloffame.playerid = people.playerid AND halloffame.inducted = 'Y'\n",
    ")\n",
    "SELECT namefirst, namelast, hof.playerid, schoolid, yearid\n",
    "FROM hof\n",
    "JOIN ca_players\n",
    "ON hof.playerid = ca_players.playerid\n",
    "ORDER BY yearid, hof.playerid;"
   ]
  },
  {
   "cell_type": "code",
   "execution_count": 21,
   "metadata": {},
   "outputs": [
    {
     "name": "stdout",
     "output_type": "stream",
     "text": [
      " * postgresql://jovyan@127.0.0.1:5432/baseball\n",
      "   postgresql://jovyan@127.0.0.1:5432/postgres\n",
      "Done.\n",
      "Done.\n",
      "23 rows affected.\n",
      "Returning data to local variable result_1c\n"
     ]
    }
   ],
   "source": [
    "%%sql result_1c <<\n",
    "DROP VIEW IF EXISTS inducted_hof_ca;\n",
    "CREATE VIEW inducted_hof_ca AS\n",
    "WITH ca_players AS (\n",
    "SELECT cp.playerid, cp.schoolid\n",
    "FROM collegeplaying AS cp\n",
    "JOIN schools AS s\n",
    "ON cp.schoolid = s.schoolid\n",
    "AND s.schoolstate = 'CA'\n",
    "),\n",
    "hof AS (\n",
    "SELECT namefirst,namelast,halloffame.playerid,yearid\n",
    "FROM halloffame\n",
    "JOIN people\n",
    "ON halloffame.playerid = people.playerid AND halloffame.inducted = 'Y'\n",
    ")\n",
    "SELECT namefirst, namelast, hof.playerid, schoolid, yearid\n",
    "FROM hof\n",
    "JOIN ca_players\n",
    "ON hof.playerid = ca_players.playerid\n",
    "ORDER BY yearid, hof.playerid;\n",
    "SELECT * FROM inducted_hof_ca;"
   ]
  },
  {
   "cell_type": "code",
   "execution_count": 22,
   "metadata": {},
   "outputs": [],
   "source": [
    "# Do not delete/edit this cell\n",
    "result_1c.DataFrame().sort_values(['playerid', 'schoolid', 'yearid']).to_csv('results/result_1c.csv', index=False)"
   ]
  },
  {
   "cell_type": "code",
   "execution_count": 23,
   "metadata": {
    "deletable": false,
    "editable": false
   },
   "outputs": [
    {
     "data": {
      "text/html": [
       "<p><strong><pre style='display: inline;'>q1c</pre></strong> passed!</p>"
      ],
      "text/plain": [
       "q1c results: All test cases passed!"
      ]
     },
     "execution_count": 23,
     "metadata": {},
     "output_type": "execute_result"
    }
   ],
   "source": [
    "grader.check(\"q1c\")"
   ]
  },
  {
   "cell_type": "markdown",
   "metadata": {},
   "source": [
    "### Question 1d:\n",
    "For this question, we want to compute the count of players who were inducted into the Hall of Fame and played baseball at a college in California for each `schoolid` and `yearid` combination ordered by ascending `yearid`.\n",
    "\n",
    "#### Question 1di:\n",
    "Write two queries that accomplish this task -- one query using the view you created in the `Question 1c` and one query that does not use the view, common table expressions (CTEs), or any sub-queries."
   ]
  },
  {
   "cell_type": "code",
   "execution_count": 24,
   "metadata": {},
   "outputs": [
    {
     "name": "stdout",
     "output_type": "stream",
     "text": [
      " * postgresql://jovyan@127.0.0.1:5432/baseball\n",
      "   postgresql://jovyan@127.0.0.1:5432/postgres\n",
      "13 rows affected.\n"
     ]
    },
    {
     "data": {
      "text/html": [
       "<table>\n",
       "    <tr>\n",
       "        <th>schoolid</th>\n",
       "        <th>yearid</th>\n",
       "        <th>count</th>\n",
       "    </tr>\n",
       "    <tr>\n",
       "        <td>ucla</td>\n",
       "        <td>1962</td>\n",
       "        <td>1</td>\n",
       "    </tr>\n",
       "    <tr>\n",
       "        <td>stmarysca</td>\n",
       "        <td>1971</td>\n",
       "        <td>1</td>\n",
       "    </tr>\n",
       "    <tr>\n",
       "        <td>camerri</td>\n",
       "        <td>1990</td>\n",
       "        <td>1</td>\n",
       "    </tr>\n",
       "    <tr>\n",
       "        <td>cafrecc</td>\n",
       "        <td>1992</td>\n",
       "        <td>1</td>\n",
       "    </tr>\n",
       "    <tr>\n",
       "        <td>usc</td>\n",
       "        <td>1992</td>\n",
       "        <td>1</td>\n",
       "    </tr>\n",
       "    <tr>\n",
       "        <td>calpoly</td>\n",
       "        <td>2002</td>\n",
       "        <td>4</td>\n",
       "    </tr>\n",
       "    <tr>\n",
       "        <td>sandiegost</td>\n",
       "        <td>2007</td>\n",
       "        <td>3</td>\n",
       "    </tr>\n",
       "    <tr>\n",
       "        <td>capasad</td>\n",
       "        <td>2008</td>\n",
       "        <td>1</td>\n",
       "    </tr>\n",
       "    <tr>\n",
       "        <td>sandiegost</td>\n",
       "        <td>2010</td>\n",
       "        <td>2</td>\n",
       "    </tr>\n",
       "    <tr>\n",
       "        <td>calavco</td>\n",
       "        <td>2011</td>\n",
       "        <td>1</td>\n",
       "    </tr>\n",
       "    <tr>\n",
       "        <td>usc</td>\n",
       "        <td>2011</td>\n",
       "        <td>2</td>\n",
       "    </tr>\n",
       "    <tr>\n",
       "        <td>usc</td>\n",
       "        <td>2015</td>\n",
       "        <td>3</td>\n",
       "    </tr>\n",
       "    <tr>\n",
       "        <td>cacypre</td>\n",
       "        <td>2018</td>\n",
       "        <td>2</td>\n",
       "    </tr>\n",
       "</table>"
      ],
      "text/plain": [
       "[('ucla', 1962, 1),\n",
       " ('stmarysca', 1971, 1),\n",
       " ('camerri', 1990, 1),\n",
       " ('cafrecc', 1992, 1),\n",
       " ('usc', 1992, 1),\n",
       " ('calpoly', 2002, 4),\n",
       " ('sandiegost', 2007, 3),\n",
       " ('capasad', 2008, 1),\n",
       " ('sandiegost', 2010, 2),\n",
       " ('calavco', 2011, 1),\n",
       " ('usc', 2011, 2),\n",
       " ('usc', 2015, 3),\n",
       " ('cacypre', 2018, 2)]"
      ]
     },
     "execution_count": 24,
     "metadata": {},
     "output_type": "execute_result"
    }
   ],
   "source": [
    "%%sql\n",
    "SELECT cp.schoolid, hal.yearid, COUNT(*)\n",
    "FROM collegeplaying AS cp \n",
    "JOIN schools AS s ON cp.schoolid = s.schoolid AND s.schoolstate = 'CA'\n",
    "JOIN halloffame AS hal ON cp.playerid = hal.playerid AND hal.inducted = 'Y'\n",
    "GROUP BY cp.schoolid, hal.yearid\n",
    "ORDER BY hal.yearid"
   ]
  },
  {
   "cell_type": "code",
   "execution_count": 25,
   "metadata": {},
   "outputs": [
    {
     "name": "stdout",
     "output_type": "stream",
     "text": [
      " * postgresql://jovyan@127.0.0.1:5432/baseball\n",
      "   postgresql://jovyan@127.0.0.1:5432/postgres\n",
      "13 rows affected.\n",
      "Returning data to local variable with_view\n"
     ]
    }
   ],
   "source": [
    "%%sql with_view <<\n",
    "SELECT schoolid, yearid, COUNT(*)\n",
    "FROM inducted_hof_ca\n",
    "GROUP BY schoolid, yearid\n",
    "ORDER BY yearid"
   ]
  },
  {
   "cell_type": "code",
   "execution_count": 26,
   "metadata": {},
   "outputs": [
    {
     "name": "stdout",
     "output_type": "stream",
     "text": [
      " * postgresql://jovyan@127.0.0.1:5432/baseball\n",
      "   postgresql://jovyan@127.0.0.1:5432/postgres\n",
      "13 rows affected.\n",
      "Returning data to local variable without_view\n"
     ]
    }
   ],
   "source": [
    "%%sql without_view <<\n",
    "SELECT cp.schoolid, hal.yearid, COUNT(*)\n",
    "FROM collegeplaying AS cp \n",
    "JOIN schools AS s ON cp.schoolid = s.schoolid AND s.schoolstate = 'CA'\n",
    "JOIN halloffame AS hal ON cp.playerid = hal.playerid AND hal.inducted = 'Y'\n",
    "GROUP BY cp.schoolid, hal.yearid\n",
    "ORDER BY hal.yearid"
   ]
  },
  {
   "cell_type": "code",
   "execution_count": 27,
   "metadata": {},
   "outputs": [],
   "source": [
    "# Do not delete/edit this cell\n",
    "with_view.DataFrame().sort_values(['schoolid', 'yearid']).to_csv('results/result_1di_view.csv', index=False)\n",
    "without_view.DataFrame().sort_values(['schoolid', 'yearid']).to_csv('results/result_1di_no_view.csv', index=False)"
   ]
  },
  {
   "cell_type": "code",
   "execution_count": 28,
   "metadata": {
    "deletable": false,
    "editable": false
   },
   "outputs": [
    {
     "data": {
      "text/html": [
       "<p><strong><pre style='display: inline;'>q1di</pre></strong> passed!</p>"
      ],
      "text/plain": [
       "q1di results: All test cases passed!"
      ]
     },
     "execution_count": 28,
     "metadata": {},
     "output_type": "execute_result"
    }
   ],
   "source": [
    "grader.check(\"q1di\")"
   ]
  },
  {
   "cell_type": "markdown",
   "metadata": {},
   "source": [
    "#### Question 1dii:\n",
    "Fill in your queries from `Question 1di` and inspect the query plans for the two queries. Record the execution time and cost for each query."
   ]
  },
  {
   "cell_type": "code",
   "execution_count": 29,
   "metadata": {},
   "outputs": [
    {
     "name": "stdout",
     "output_type": "stream",
     "text": [
      "                                                                              QUERY PLAN                                                                              \r\n",
      "----------------------------------------------------------------------------------------------------------------------------------------------------------------------\r\n",
      " GroupAggregate  (cost=525.47..527.39 rows=96 width=20) (actual time=5.808..5.822 rows=13 loops=1)\r\n",
      "   Group Key: inducted_hof_ca.yearid, inducted_hof_ca.schoolid\r\n",
      "   ->  Sort  (cost=525.47..525.71 rows=96 width=12) (actual time=5.799..5.805 rows=23 loops=1)\r\n",
      "         Sort Key: inducted_hof_ca.yearid, inducted_hof_ca.schoolid\r\n",
      "         Sort Method: quicksort  Memory: 26kB\r\n",
      "         ->  Subquery Scan on inducted_hof_ca  (cost=521.11..522.31 rows=96 width=12) (actual time=5.751..5.761 rows=23 loops=1)\r\n",
      "               ->  Sort  (cost=521.11..521.35 rows=96 width=257) (actual time=5.749..5.755 rows=23 loops=1)\r\n",
      "                     Sort Key: halloffame.yearid, halloffame.playerid\r\n",
      "                     Sort Method: quicksort  Memory: 26kB\r\n",
      "                     ->  Nested Loop  (cost=386.71..517.95 rows=96 width=257) (actual time=5.290..5.725 rows=23 loops=1)\r\n",
      "                           Join Filter: ((halloffame.playerid)::text = (people.playerid)::text)\r\n",
      "                           ->  Hash Join  (cost=386.42..485.79 rows=96 width=30) (actual time=5.253..5.595 rows=23 loops=1)\r\n",
      "                                 Hash Cond: ((halloffame.playerid)::text = (cp.playerid)::text)\r\n",
      "                                 ->  Seq Scan on halloffame  (cost=0.00..96.39 rows=323 width=13) (actual time=0.008..0.620 rows=323 loops=1)\r\n",
      "                                       Filter: ((inducted)::text = 'Y'::text)\r\n",
      "                                       Rows Removed by Filter: 3868\r\n",
      "                                 ->  Hash  (cost=361.99..361.99 rows=1955 width=17) (actual time=4.887..4.891 rows=2948 loops=1)\r\n",
      "                                       Buckets: 4096 (originally 2048)  Batches: 1 (originally 1)  Memory Usage: 178kB\r\n",
      "                                       ->  Hash Join  (cost=29.79..361.99 rows=1955 width=17) (actual time=0.243..4.111 rows=2948 loops=1)\r\n",
      "                                             Hash Cond: ((cp.schoolid)::text = (s.schoolid)::text)\r\n",
      "                                             ->  Seq Scan on collegeplaying cp  (cost=0.00..286.50 rows=17350 width=17) (actual time=0.006..1.222 rows=17350 loops=1)\r\n",
      "                                             ->  Hash  (cost=28.09..28.09 rows=136 width=8) (actual time=0.212..0.213 rows=136 loops=1)\r\n",
      "                                                   Buckets: 1024  Batches: 1  Memory Usage: 14kB\r\n",
      "                                                   ->  Seq Scan on schools s  (cost=0.00..28.09 rows=136 width=8) (actual time=0.013..0.175 rows=136 loops=1)\r\n",
      "                                                         Filter: ((schoolstate)::text = 'CA'::text)\r\n",
      "                                                         Rows Removed by Filter: 1071\r\n",
      "                           ->  Index Only Scan using master_pkey on people  (cost=0.29..0.32 rows=1 width=9) (actual time=0.005..0.005 rows=1 loops=23)\r\n",
      "                                 Index Cond: (playerid = (cp.playerid)::text)\r\n",
      "                                 Heap Fetches: 0\r\n",
      " Planning Time: 2.785 ms\r\n",
      " Execution Time: 6.042 ms\r\n",
      "(31 rows)\r\n",
      "\r\n"
     ]
    }
   ],
   "source": [
    "with_view_query_str = \"SELECT schoolid, yearid, COUNT(*) FROM inducted_hof_ca GROUP BY schoolid, yearid ORDER BY yearid\"\n",
    "!psql -h localhost -d baseball -c \"explain analyze $with_view_query_str\""
   ]
  },
  {
   "cell_type": "code",
   "execution_count": 30,
   "metadata": {},
   "outputs": [
    {
     "name": "stdout",
     "output_type": "stream",
     "text": [
      "                                                                     QUERY PLAN                                                                     \r\n",
      "----------------------------------------------------------------------------------------------------------------------------------------------------\r\n",
      " GroupAggregate  (cost=488.95..490.87 rows=96 width=20) (actual time=5.824..5.843 rows=13 loops=1)\r\n",
      "   Group Key: hal.yearid, cp.schoolid\r\n",
      "   ->  Sort  (cost=488.95..489.19 rows=96 width=12) (actual time=5.813..5.818 rows=23 loops=1)\r\n",
      "         Sort Key: hal.yearid, cp.schoolid\r\n",
      "         Sort Method: quicksort  Memory: 26kB\r\n",
      "         ->  Hash Join  (cost=386.42..485.79 rows=96 width=12) (actual time=5.370..5.726 rows=23 loops=1)\r\n",
      "               Hash Cond: ((hal.playerid)::text = (cp.playerid)::text)\r\n",
      "               ->  Seq Scan on halloffame hal  (cost=0.00..96.39 rows=323 width=13) (actual time=0.009..0.599 rows=323 loops=1)\r\n",
      "                     Filter: ((inducted)::text = 'Y'::text)\r\n",
      "                     Rows Removed by Filter: 3868\r\n",
      "               ->  Hash  (cost=361.99..361.99 rows=1955 width=17) (actual time=5.057..5.060 rows=2948 loops=1)\r\n",
      "                     Buckets: 4096 (originally 2048)  Batches: 1 (originally 1)  Memory Usage: 178kB\r\n",
      "                     ->  Hash Join  (cost=29.79..361.99 rows=1955 width=17) (actual time=0.214..4.239 rows=2948 loops=1)\r\n",
      "                           Hash Cond: ((cp.schoolid)::text = (s.schoolid)::text)\r\n",
      "                           ->  Seq Scan on collegeplaying cp  (cost=0.00..286.50 rows=17350 width=17) (actual time=0.004..1.283 rows=17350 loops=1)\r\n",
      "                           ->  Hash  (cost=28.09..28.09 rows=136 width=8) (actual time=0.189..0.190 rows=136 loops=1)\r\n",
      "                                 Buckets: 1024  Batches: 1  Memory Usage: 14kB\r\n",
      "                                 ->  Seq Scan on schools s  (cost=0.00..28.09 rows=136 width=8) (actual time=0.011..0.158 rows=136 loops=1)\r\n",
      "                                       Filter: ((schoolstate)::text = 'CA'::text)\r\n",
      "                                       Rows Removed by Filter: 1071\r\n",
      " Planning Time: 1.462 ms\r\n",
      " Execution Time: 5.982 ms\r\n",
      "(22 rows)\r\n",
      "\r\n"
     ]
    }
   ],
   "source": [
    "without_view_query_str = \"SELECT cp.schoolid, hal.yearid, COUNT(*) FROM collegeplaying AS cp  JOIN schools AS s ON cp.schoolid = s.schoolid AND s.schoolstate = 'CA' JOIN halloffame AS hal ON cp.playerid = hal.playerid AND hal.inducted = 'Y' GROUP BY cp.schoolid, hal.yearid ORDER BY hal.yearid\"\n",
    "!psql -h localhost -d baseball -c\"explain analyze $without_view_query_str\""
   ]
  },
  {
   "cell_type": "code",
   "execution_count": 31,
   "metadata": {},
   "outputs": [],
   "source": [
    "with_view_cost = 527.39\n",
    "with_view_timing = 6.538\n",
    "without_view_cost = 490.87\n",
    "without_view_timing = 5.923"
   ]
  },
  {
   "cell_type": "code",
   "execution_count": 32,
   "metadata": {
    "deletable": false,
    "editable": false
   },
   "outputs": [
    {
     "data": {
      "text/html": [
       "<p><strong><pre style='display: inline;'>q1dii</pre></strong> passed!</p>"
      ],
      "text/plain": [
       "q1dii results: All test cases passed!"
      ]
     },
     "execution_count": 32,
     "metadata": {},
     "output_type": "execute_result"
    }
   ],
   "source": [
    "grader.check(\"q1dii\")"
   ]
  },
  {
   "cell_type": "markdown",
   "metadata": {},
   "source": [
    "### Question 1e:\n",
    "#### Question 1ei:\n",
    "Now, let's try creating a materialized view named `inducted_hof_ca_mat` instead of the regular view from `Question 1c`."
   ]
  },
  {
   "cell_type": "code",
   "execution_count": 33,
   "metadata": {},
   "outputs": [
    {
     "name": "stdout",
     "output_type": "stream",
     "text": [
      " * postgresql://jovyan@127.0.0.1:5432/baseball\n",
      "   postgresql://jovyan@127.0.0.1:5432/postgres\n",
      "Done.\n",
      "23 rows affected.\n",
      "23 rows affected.\n",
      "Returning data to local variable inducted_hof_ca_materialized\n"
     ]
    }
   ],
   "source": [
    "%%sql inducted_hof_ca_materialized <<\n",
    "DROP MATERIALIZED VIEW IF EXISTS inducted_hof_ca_mat;\n",
    "CREATE MATERIALIZED VIEW inducted_hof_ca_mat AS\n",
    "WITH ca_players AS (\n",
    "SELECT cp.playerid, cp.schoolid\n",
    "FROM collegeplaying AS cp\n",
    "JOIN schools AS s\n",
    "ON cp.schoolid = s.schoolid\n",
    "AND s.schoolstate = 'CA'\n",
    "),\n",
    "hof AS (\n",
    "SELECT namefirst,namelast,halloffame.playerid,yearid\n",
    "FROM halloffame\n",
    "JOIN people\n",
    "ON halloffame.playerid = people.playerid AND halloffame.inducted = 'Y'\n",
    ")\n",
    "SELECT namefirst, namelast, hof.playerid, schoolid, yearid\n",
    "FROM hof\n",
    "JOIN ca_players\n",
    "ON hof.playerid = ca_players.playerid\n",
    "ORDER BY yearid, hof.playerid;\n",
    "SELECT * FROM inducted_hof_ca_mat;"
   ]
  },
  {
   "cell_type": "code",
   "execution_count": 34,
   "metadata": {},
   "outputs": [],
   "source": [
    "# Do not delete/edit this cell\n",
    "inducted_hof_ca_materialized.DataFrame().sort_values(['playerid', 'schoolid', 'yearid']).to_csv('results/result_1ei.csv', index=False)"
   ]
  },
  {
   "cell_type": "code",
   "execution_count": 35,
   "metadata": {
    "deletable": false,
    "editable": false
   },
   "outputs": [
    {
     "data": {
      "text/html": [
       "<p><strong><pre style='display: inline;'>q1ei</pre></strong> passed!</p>"
      ],
      "text/plain": [
       "q1ei results: All test cases passed!"
      ]
     },
     "execution_count": 35,
     "metadata": {},
     "output_type": "execute_result"
    }
   ],
   "source": [
    "grader.check(\"q1ei\")"
   ]
  },
  {
   "cell_type": "markdown",
   "metadata": {},
   "source": [
    "#### Question 1eii:\n",
    "\n",
    "Now, rewrite the query from `Question 1d` to use the materialized view `inducted_hof_ca_mat`."
   ]
  },
  {
   "cell_type": "code",
   "execution_count": 36,
   "metadata": {},
   "outputs": [
    {
     "name": "stdout",
     "output_type": "stream",
     "text": [
      " * postgresql://jovyan@127.0.0.1:5432/baseball\n",
      "   postgresql://jovyan@127.0.0.1:5432/postgres\n",
      "13 rows affected.\n",
      "Returning data to local variable with_materialized_view\n"
     ]
    }
   ],
   "source": [
    "%%sql with_materialized_view <<\n",
    "SELECT schoolid, yearid, COUNT(*)\n",
    "FROM inducted_hof_ca_mat\n",
    "GROUP BY schoolid, yearid\n",
    "ORDER BY yearid"
   ]
  },
  {
   "cell_type": "code",
   "execution_count": 37,
   "metadata": {},
   "outputs": [],
   "source": [
    "# Do not delete/edit this cell\n",
    "with_materialized_view.DataFrame().sort_values(['schoolid', 'yearid']).to_csv('results/result_1eii.csv', index=False)"
   ]
  },
  {
   "cell_type": "code",
   "execution_count": 38,
   "metadata": {
    "deletable": false,
    "editable": false
   },
   "outputs": [
    {
     "data": {
      "text/html": [
       "<p><strong><pre style='display: inline;'>q1eii</pre></strong> passed!</p>"
      ],
      "text/plain": [
       "q1eii results: All test cases passed!"
      ]
     },
     "execution_count": 38,
     "metadata": {},
     "output_type": "execute_result"
    }
   ],
   "source": [
    "grader.check(\"q1eii\")"
   ]
  },
  {
   "cell_type": "markdown",
   "metadata": {},
   "source": [
    "#### Question 1eiii:\n",
    "Inspect the query plan and record the execution time and cost of the query that uses the materialized view."
   ]
  },
  {
   "cell_type": "code",
   "execution_count": 39,
   "metadata": {},
   "outputs": [
    {
     "name": "stdout",
     "output_type": "stream",
     "text": [
      "                                                          QUERY PLAN                                                          \r\n",
      "------------------------------------------------------------------------------------------------------------------------------\r\n",
      " Sort  (cost=23.67..24.17 rows=200 width=60) (actual time=0.083..0.085 rows=13 loops=1)\r\n",
      "   Sort Key: yearid\r\n",
      "   Sort Method: quicksort  Memory: 25kB\r\n",
      "   ->  HashAggregate  (cost=14.03..16.02 rows=200 width=60) (actual time=0.035..0.040 rows=13 loops=1)\r\n",
      "         Group Key: yearid, schoolid\r\n",
      "         Batches: 1  Memory Usage: 40kB\r\n",
      "         ->  Seq Scan on inducted_hof_ca_mat  (cost=0.00..12.30 rows=230 width=52) (actual time=0.007..0.010 rows=23 loops=1)\r\n",
      " Planning Time: 0.414 ms\r\n",
      " Execution Time: 0.238 ms\r\n",
      "(9 rows)\r\n",
      "\r\n"
     ]
    }
   ],
   "source": [
    "with_materialized_view_query_str = \"SELECT schoolid, yearid, COUNT(*) FROM inducted_hof_ca_mat GROUP BY schoolid, yearid ORDER BY yearid\"\n",
    "!psql -h localhost -d baseball -c \"explain analyze $with_materialized_view_query_str\""
   ]
  },
  {
   "cell_type": "code",
   "execution_count": 40,
   "metadata": {},
   "outputs": [],
   "source": [
    "with_materialized_view_cost = 24.17\n",
    "with_materialized_view_timing = 0.191"
   ]
  },
  {
   "cell_type": "code",
   "execution_count": 41,
   "metadata": {
    "deletable": false,
    "editable": false
   },
   "outputs": [
    {
     "data": {
      "text/html": [
       "<p><strong><pre style='display: inline;'>q1eiii</pre></strong> passed!</p>"
      ],
      "text/plain": [
       "q1eiii results: All test cases passed!"
      ]
     },
     "execution_count": 41,
     "metadata": {},
     "output_type": "execute_result"
    }
   ],
   "source": [
    "grader.check(\"q1eiii\")"
   ]
  },
  {
   "cell_type": "markdown",
   "metadata": {
    "deletable": false,
    "editable": false
   },
   "source": [
    "#### Question 1eiv:\n",
    "Given your findings from inspecting the query plans, as well as your understanding of views and materialized views from lectures, answer the following question. Assign the variable `q1e_part4` to a list of all statements which are true.\n",
    "\n",
    "1. Consider the following statements:\n",
    "    1. Views will reduce the execution time and the cost of a query.\n",
    "    1. Views will reduce the execution time of a query, but not the cost.\n",
    "    1. Views will reduce the cost of a query, but not the execution time.\n",
    "    1. Materialized views reduce the execution time and the cost of a query.\n",
    "    1. Materialized views reduce the execution time, but not cost of a query.\n",
    "    1. Materialized views reduce the cost of a query, but not the execution time.\n",
    "    1. Materialized views will result in the same query plan as a query using views.\n",
    "    1. Materialized views and views take the same time to create.\n",
    "    1. Materialized views take less time to create than a view.\n",
    "    1. Materialized views take more time to create than a view.\n",
    "    \n",
    "*Note:* Your answer should look like `q1e_part4 = ['A', 'B']`\n",
    "\n",
    "<!--\n",
    "BEGIN QUESTION\n",
    "name: q1eiv\n",
    "points: 2\n",
    "-->"
   ]
  },
  {
   "cell_type": "code",
   "execution_count": 42,
   "metadata": {},
   "outputs": [],
   "source": [
    "q1e_part4 = ['D', 'J']"
   ]
  },
  {
   "cell_type": "code",
   "execution_count": 43,
   "metadata": {
    "deletable": false,
    "editable": false
   },
   "outputs": [
    {
     "data": {
      "text/html": [
       "<p><strong><pre style='display: inline;'>q1eiv</pre></strong> passed!</p>"
      ],
      "text/plain": [
       "q1eiv results: All test cases passed!"
      ]
     },
     "execution_count": 43,
     "metadata": {},
     "output_type": "execute_result"
    }
   ],
   "source": [
    "grader.check(\"q1eiv\")"
   ]
  },
  {
   "cell_type": "markdown",
   "metadata": {
    "deletable": false,
    "editable": false
   },
   "source": [
    "<!-- BEGIN QUESTION -->\n",
    "\n",
    "#### Question 1ev:\n",
    "\n",
    "Explain your answer to the previous part based on your knowledge from lectures, and details from the query plans (your explanation should include why you didn't choose certain options).\n",
    "\n",
    "<!--\n",
    "BEGIN QUESTION\n",
    "name: q1ev\n",
    "manual: true\n",
    "points: 2\n",
    "-->"
   ]
  },
  {
   "cell_type": "markdown",
   "metadata": {},
   "source": [
    "A, B, and C are false. Based on the query plans, the query with the view had a higher cost and longer execution time as compared to the query that did not use a view. Conceptually this makes sense because views are computed on demand, so when querying a view, the view must be computed first, then the query is executed. This can cause the optimizer to compute in an order that takes longer than querying without the view, as seen by the different query plans for with the view and without the view. D is correct because a materialized view actually stores the result of the query inside the materialized view, so when the materialized view is queried, all that has to be done is the aggregation and sorting, and not any of the joining and filtering, this is why E, F, and G are all false. J is correct because a virtual view simple stores the definition of the query inside of it, and doesn't actually compute is til it is queried, where the materialized view actually computes it, so computing and storing a query will take longer then simply saving its defintion. This is why H and I are false."
   ]
  },
  {
   "cell_type": "markdown",
   "metadata": {},
   "source": [
    "<!-- END QUESTION -->\n",
    "\n",
    "\n",
    "\n",
    "## Question 2: Predicate Pushdown\n",
    "In this question, we will explore the impact of predicates on a query's execution, particularly inspecting when the optimizer applies predicates.\n",
    "\n",
    "### Question 2a:\n",
    "Recall the `inducted_hof_ca` created in `Question 1c`. Inspect the query plan for a query that that gets all rows from the view, and record the execution time and cost."
   ]
  },
  {
   "cell_type": "code",
   "execution_count": 44,
   "metadata": {},
   "outputs": [
    {
     "name": "stdout",
     "output_type": "stream",
     "text": [
      "                                                                     QUERY PLAN                                                                     \r\n",
      "----------------------------------------------------------------------------------------------------------------------------------------------------\r\n",
      " Sort  (cost=530.54..530.78 rows=96 width=33) (actual time=6.554..6.561 rows=23 loops=1)\r\n",
      "   Sort Key: halloffame.yearid, halloffame.playerid\r\n",
      "   Sort Method: quicksort  Memory: 26kB\r\n",
      "   ->  Nested Loop  (cost=386.71..527.38 rows=96 width=33) (actual time=5.724..6.505 rows=23 loops=1)\r\n",
      "         Join Filter: ((halloffame.playerid)::text = (people.playerid)::text)\r\n",
      "         ->  Hash Join  (cost=386.42..485.79 rows=96 width=30) (actual time=5.670..6.199 rows=23 loops=1)\r\n",
      "               Hash Cond: ((halloffame.playerid)::text = (cp.playerid)::text)\r\n",
      "               ->  Seq Scan on halloffame  (cost=0.00..96.39 rows=323 width=13) (actual time=0.009..0.798 rows=323 loops=1)\r\n",
      "                     Filter: ((inducted)::text = 'Y'::text)\r\n",
      "                     Rows Removed by Filter: 3868\r\n",
      "               ->  Hash  (cost=361.99..361.99 rows=1955 width=17) (actual time=5.316..5.319 rows=2948 loops=1)\r\n",
      "                     Buckets: 4096 (originally 2048)  Batches: 1 (originally 1)  Memory Usage: 178kB\r\n",
      "                     ->  Hash Join  (cost=29.79..361.99 rows=1955 width=17) (actual time=0.228..4.199 rows=2948 loops=1)\r\n",
      "                           Hash Cond: ((cp.schoolid)::text = (s.schoolid)::text)\r\n",
      "                           ->  Seq Scan on collegeplaying cp  (cost=0.00..286.50 rows=17350 width=17) (actual time=0.004..1.306 rows=17350 loops=1)\r\n",
      "                           ->  Hash  (cost=28.09..28.09 rows=136 width=8) (actual time=0.203..0.205 rows=136 loops=1)\r\n",
      "                                 Buckets: 1024  Batches: 1  Memory Usage: 14kB\r\n",
      "                                 ->  Seq Scan on schools s  (cost=0.00..28.09 rows=136 width=8) (actual time=0.012..0.163 rows=136 loops=1)\r\n",
      "                                       Filter: ((schoolstate)::text = 'CA'::text)\r\n",
      "                                       Rows Removed by Filter: 1071\r\n",
      "         ->  Index Scan using master_pkey on people  (cost=0.29..0.42 rows=1 width=21) (actual time=0.012..0.012 rows=1 loops=23)\r\n",
      "               Index Cond: ((playerid)::text = (cp.playerid)::text)\r\n",
      " Planning Time: 2.857 ms\r\n",
      " Execution Time: 6.727 ms\r\n",
      "(24 rows)\r\n",
      "\r\n"
     ]
    }
   ],
   "source": [
    "query_view_str = \"SELECT * FROM inducted_hof_ca\"\n",
    "!psql -h localhost -d baseball -c \"explain analyze $query_view_str\""
   ]
  },
  {
   "cell_type": "code",
   "execution_count": 45,
   "metadata": {},
   "outputs": [],
   "source": [
    "query_view_cost = 530.78\n",
    "query_view_timing = 8.318"
   ]
  },
  {
   "cell_type": "code",
   "execution_count": 46,
   "metadata": {
    "deletable": false,
    "editable": false
   },
   "outputs": [
    {
     "data": {
      "text/html": [
       "<p><strong><pre style='display: inline;'>q2a</pre></strong> passed!</p>"
      ],
      "text/plain": [
       "q2a results: All test cases passed!"
      ]
     },
     "execution_count": 46,
     "metadata": {},
     "output_type": "execute_result"
    }
   ],
   "source": [
    "grader.check(\"q2a\")"
   ]
  },
  {
   "cell_type": "markdown",
   "metadata": {},
   "source": [
    "### Question 2b:\n",
    "Now, add a filter to only return rows from `inducted_hof_ca` where the year is later than 2010. Inspect the query plan and record the execution time and cost."
   ]
  },
  {
   "cell_type": "code",
   "execution_count": 47,
   "metadata": {},
   "outputs": [
    {
     "name": "stdout",
     "output_type": "stream",
     "text": [
      " * postgresql://jovyan@127.0.0.1:5432/baseball\n",
      "   postgresql://jovyan@127.0.0.1:5432/postgres\n",
      "8 rows affected.\n",
      "Returning data to local variable result_2b\n"
     ]
    }
   ],
   "source": [
    "%%sql result_2b <<\n",
    "SELECT *\n",
    "FROM inducted_hof_ca\n",
    "WHERE yearid > 2010;"
   ]
  },
  {
   "cell_type": "code",
   "execution_count": 48,
   "metadata": {
    "scrolled": true
   },
   "outputs": [
    {
     "name": "stdout",
     "output_type": "stream",
     "text": [
      "                                                                              QUERY PLAN                                                                              \r\n",
      "----------------------------------------------------------------------------------------------------------------------------------------------------------------------\r\n",
      " Sort  (cost=209.92..209.93 rows=6 width=33) (actual time=0.959..0.962 rows=8 loops=1)\r\n",
      "   Sort Key: halloffame.yearid, halloffame.playerid\r\n",
      "   Sort Method: quicksort  Memory: 25kB\r\n",
      "   ->  Nested Loop  (cost=0.85..209.84 rows=6 width=33) (actual time=0.616..0.921 rows=8 loops=1)\r\n",
      "         Join Filter: ((halloffame.playerid)::text = (people.playerid)::text)\r\n",
      "         ->  Nested Loop  (cost=0.56..207.24 rows=6 width=30) (actual time=0.582..0.845 rows=8 loops=1)\r\n",
      "               ->  Nested Loop  (cost=0.29..190.63 rows=55 width=30) (actual time=0.559..0.731 rows=27 loops=1)\r\n",
      "                     ->  Seq Scan on halloffame  (cost=0.00..106.86 rows=21 width=13) (actual time=0.516..0.555 rows=31 loops=1)\r\n",
      "                           Filter: ((yearid > 2010) AND ((inducted)::text = 'Y'::text))\r\n",
      "                           Rows Removed by Filter: 4160\r\n",
      "                     ->  Index Only Scan using collegeplaying_pkey on collegeplaying cp  (cost=0.29..3.96 rows=3 width=17) (actual time=0.005..0.005 rows=1 loops=31)\r\n",
      "                           Index Cond: (playerid = (halloffame.playerid)::text)\r\n",
      "                           Heap Fetches: 0\r\n",
      "               ->  Index Scan using schools_pkey on schools s  (cost=0.28..0.30 rows=1 width=8) (actual time=0.004..0.004 rows=0 loops=27)\r\n",
      "                     Index Cond: ((schoolid)::text = (cp.schoolid)::text)\r\n",
      "                     Filter: ((schoolstate)::text = 'CA'::text)\r\n",
      "                     Rows Removed by Filter: 1\r\n",
      "         ->  Index Scan using master_pkey on people  (cost=0.29..0.42 rows=1 width=21) (actual time=0.008..0.008 rows=1 loops=8)\r\n",
      "               Index Cond: ((playerid)::text = (cp.playerid)::text)\r\n",
      " Planning Time: 2.583 ms\r\n",
      " Execution Time: 1.115 ms\r\n",
      "(21 rows)\r\n",
      "\r\n"
     ]
    }
   ],
   "source": [
    "query_view_with_filter_str = \"SELECT * FROM inducted_hof_ca WHERE yearid > 2010\"\n",
    "!psql -h localhost -d baseball -c \"explain analyze $query_view_with_filter_str\""
   ]
  },
  {
   "cell_type": "code",
   "execution_count": 49,
   "metadata": {},
   "outputs": [],
   "source": [
    "query_view_with_filter_cost = 209.93\n",
    "query_view_with_filter_timing = 1.402"
   ]
  },
  {
   "cell_type": "code",
   "execution_count": 50,
   "metadata": {
    "deletable": false,
    "editable": false
   },
   "outputs": [
    {
     "data": {
      "text/html": [
       "<p><strong><pre style='display: inline;'>q2b</pre></strong> passed!</p>"
      ],
      "text/plain": [
       "q2b results: All test cases passed!"
      ]
     },
     "execution_count": 50,
     "metadata": {},
     "output_type": "execute_result"
    }
   ],
   "source": [
    "grader.check(\"q2b\")"
   ]
  },
  {
   "cell_type": "markdown",
   "metadata": {
    "deletable": false,
    "editable": false
   },
   "source": [
    "### Question 2c:\n",
    "Given your findings from inspecting the query plans of queries from `Question 2a-b`, answer the following question. Assign the variable `q2c` to a list of all statements which are true.\n",
    "\n",
    "1. Consider the following statements:\n",
    "    1. Adding a filter lowered the cost.\n",
    "    1. Adding a filter increased the cost.\n",
    "    1. Adding a filter did not change the cost.\n",
    "    1. Adding a filter increased the execution time.\n",
    "    1. Adding a filter decreased the execution time.\n",
    "    1. Adding a filter did not change the execution time.\n",
    "    1. No statement is true.\n",
    "    \n",
    "    \n",
    "**Note:** Your answer should look like `q2c = ['A', 'B']`\n",
    "\n",
    "<!--\n",
    "BEGIN QUESTION\n",
    "name: q2c\n",
    "points: 2\n",
    "-->"
   ]
  },
  {
   "cell_type": "code",
   "execution_count": 51,
   "metadata": {},
   "outputs": [],
   "source": [
    "q2c = ['A', 'E']"
   ]
  },
  {
   "cell_type": "code",
   "execution_count": 52,
   "metadata": {
    "deletable": false,
    "editable": false
   },
   "outputs": [
    {
     "data": {
      "text/html": [
       "<p><strong><pre style='display: inline;'>q2c</pre></strong> passed!</p>"
      ],
      "text/plain": [
       "q2c results: All test cases passed!"
      ]
     },
     "execution_count": 52,
     "metadata": {},
     "output_type": "execute_result"
    }
   ],
   "source": [
    "grader.check(\"q2c\")"
   ]
  },
  {
   "cell_type": "markdown",
   "metadata": {
    "deletable": false,
    "editable": false
   },
   "source": [
    "<!-- BEGIN QUESTION -->\n",
    "\n",
    "#### Question 2d:\n",
    "\n",
    "Explain your answer based on your knowledge from lectures, and details from the query plans (your explanation should include why you didn't choose certain options).\n",
    "\n",
    "<!--\n",
    "BEGIN QUESTION\n",
    "name: q2d\n",
    "manual: true\n",
    "points: 2\n",
    "-->"
   ]
  },
  {
   "cell_type": "markdown",
   "metadata": {},
   "source": [
    "A and E are ture. Since we are selecting from a view, the optimizer was able to push down the year > 2010 condition into the same step as inducted = 'Y' before the joins are executed in the view. This allows the joins to be done over a smaller subset of the halloffame table, thus reducing the cost to preform those joins because less data is needed to be compaired to, reducing total cost and execution time. This is why the rest of the statements are false."
   ]
  },
  {
   "cell_type": "markdown",
   "metadata": {},
   "source": [
    "<!-- END QUESTION -->\n",
    "\n",
    "\n",
    "\n",
    "## Question 3: Join Approaches\n",
    "\n",
    "In this question, we'll explore different join approaches (Nested Loop Join, Merge Join, Hash Join) and discuss how the query optimizer picks the best approach.\n",
    "\n",
    "### Question 3a:\n",
    "Perform an inner join on the `people` and `collegeplaying` tables on the `playerid` column. Project all columns."
   ]
  },
  {
   "cell_type": "code",
   "execution_count": 53,
   "metadata": {},
   "outputs": [
    {
     "name": "stdout",
     "output_type": "stream",
     "text": [
      " * postgresql://jovyan@127.0.0.1:5432/baseball\n",
      "   postgresql://jovyan@127.0.0.1:5432/postgres\n",
      "17350 rows affected.\n",
      "Returning data to local variable q3a_join\n"
     ]
    }
   ],
   "source": [
    "%%sql q3a_join <<\n",
    "SELECT *\n",
    "FROM people AS p\n",
    "INNER JOIN collegeplaying AS cp\n",
    "ON p.playerid = cp.playerid;"
   ]
  },
  {
   "cell_type": "markdown",
   "metadata": {},
   "source": [
    "Inspect the query plan for the query you wrote above."
   ]
  },
  {
   "cell_type": "code",
   "execution_count": 54,
   "metadata": {},
   "outputs": [
    {
     "name": "stdout",
     "output_type": "stream",
     "text": [
      "                                                         QUERY PLAN                                                         \r\n",
      "----------------------------------------------------------------------------------------------------------------------------\r\n",
      " Hash Join  (cost=861.83..1193.88 rows=17350 width=167) (actual time=9.270..19.630 rows=17350 loops=1)\r\n",
      "   Hash Cond: ((cp.playerid)::text = (p.playerid)::text)\r\n",
      "   ->  Seq Scan on collegeplaying cp  (cost=0.00..286.50 rows=17350 width=21) (actual time=0.006..1.302 rows=17350 loops=1)\r\n",
      "   ->  Hash  (cost=619.70..619.70 rows=19370 width=146) (actual time=9.026..9.029 rows=19370 loops=1)\r\n",
      "         Buckets: 32768  Batches: 1  Memory Usage: 3633kB\r\n",
      "         ->  Seq Scan on people p  (cost=0.00..619.70 rows=19370 width=146) (actual time=0.011..1.819 rows=19370 loops=1)\r\n",
      " Planning Time: 1.119 ms\r\n",
      " Execution Time: 20.430 ms\r\n",
      "(8 rows)\r\n",
      "\r\n"
     ]
    }
   ],
   "source": [
    "q3a_query_str = \"SELECT * FROM people AS p INNER JOIN collegeplaying AS cp ON p.playerid = cp.playerid\"\n",
    "!psql -h localhost -d baseball -c \"explain analyze $q3a_query_str\""
   ]
  },
  {
   "cell_type": "markdown",
   "metadata": {
    "deletable": false,
    "editable": false
   },
   "source": [
    "Given your findings from inspecting the query plan, answer the following question. Assign the variable `q3a` to a list of all the options which are true for the proposed statement.\n",
    "\n",
    "1. Which join approach did the query optimizer choose?\n",
    "    1. Nested Loop Join\n",
    "    1. Merge Join\n",
    "    1. Hash Join\n",
    "    1. None of the Above\n",
    "\n",
    "**Note:** Your answer should be formatted as follows: `q3a = ['A', 'B']`\n",
    "\n",
    "<!--\n",
    "BEGIN QUESTION\n",
    "name: q3a\n",
    "points: 1\n",
    "-->"
   ]
  },
  {
   "cell_type": "code",
   "execution_count": 55,
   "metadata": {},
   "outputs": [],
   "source": [
    "q3a = ['C']"
   ]
  },
  {
   "cell_type": "code",
   "execution_count": 56,
   "metadata": {
    "deletable": false,
    "editable": false
   },
   "outputs": [
    {
     "data": {
      "text/html": [
       "<p><strong><pre style='display: inline;'>q3a</pre></strong> passed!</p>"
      ],
      "text/plain": [
       "q3a results: All test cases passed!"
      ]
     },
     "execution_count": 56,
     "metadata": {},
     "output_type": "execute_result"
    }
   ],
   "source": [
    "grader.check(\"q3a\")"
   ]
  },
  {
   "cell_type": "markdown",
   "metadata": {},
   "source": [
    "### Question 3b\n",
    "\n",
    "Similar to Question 3a, perform an inner join on the `people` and `collegeplaying` tables on the `playerid` column. Project all columns.\n",
    "\n",
    "In addition, **sort your output by `playerid`.**"
   ]
  },
  {
   "cell_type": "code",
   "execution_count": 57,
   "metadata": {},
   "outputs": [
    {
     "name": "stdout",
     "output_type": "stream",
     "text": [
      " * postgresql://jovyan@127.0.0.1:5432/baseball\n",
      "   postgresql://jovyan@127.0.0.1:5432/postgres\n",
      "17350 rows affected.\n",
      "Returning data to local variable q3b_join\n"
     ]
    }
   ],
   "source": [
    "%%sql q3b_join <<\n",
    "SELECT *\n",
    "FROM people AS p\n",
    "INNER JOIN collegeplaying AS cp\n",
    "ON p.playerid = cp.playerid\n",
    "ORDER BY cp.playerid;"
   ]
  },
  {
   "cell_type": "markdown",
   "metadata": {},
   "source": [
    "Inspect the query plan for the query you wrote above."
   ]
  },
  {
   "cell_type": "code",
   "execution_count": 58,
   "metadata": {},
   "outputs": [
    {
     "name": "stdout",
     "output_type": "stream",
     "text": [
      "                                                                         QUERY PLAN                                                                          \r\n",
      "-------------------------------------------------------------------------------------------------------------------------------------------------------------\r\n",
      " Merge Join  (cost=0.57..1910.20 rows=17350 width=167) (actual time=0.037..18.124 rows=17350 loops=1)\r\n",
      "   Merge Cond: ((p.playerid)::text = (cp.playerid)::text)\r\n",
      "   ->  Index Scan using master_pkey on people p  (cost=0.29..1024.36 rows=19370 width=146) (actual time=0.014..4.110 rows=19368 loops=1)\r\n",
      "   ->  Index Only Scan using collegeplaying_pkey on collegeplaying cp  (cost=0.29..620.54 rows=17350 width=21) (actual time=0.018..2.341 rows=17350 loops=1)\r\n",
      "         Heap Fetches: 0\r\n",
      " Planning Time: 0.957 ms\r\n",
      " Execution Time: 18.885 ms\r\n",
      "(7 rows)\r\n",
      "\r\n"
     ]
    }
   ],
   "source": [
    "q3b_query_str = \"SELECT * FROM people AS p INNER JOIN collegeplaying AS cp ON p.playerid = cp.playerid ORDER BY cp.playerid\"\n",
    "!psql -h localhost -d baseball -c \"explain analyze $q3b_query_str\""
   ]
  },
  {
   "cell_type": "markdown",
   "metadata": {
    "deletable": false,
    "editable": false
   },
   "source": [
    "Given your findings from inspecting the query plan, answer the following question. Assign the variable `q3b` to a list of all the options which are true for the proposed statement.\n",
    "\n",
    "1. Which join approach did the query optimizer choose?\n",
    "    1. Nested Loop Join\n",
    "    1. Merge Join\n",
    "    1. Hash Join\n",
    "    1. None of the Above\n",
    "\n",
    "**Note:** Your answer should be formatted as follows: `q3b = ['A', 'B']`\n",
    "\n",
    "<!--\n",
    "BEGIN QUESTION\n",
    "name: q3b\n",
    "points: 1\n",
    "-->"
   ]
  },
  {
   "cell_type": "code",
   "execution_count": 59,
   "metadata": {},
   "outputs": [],
   "source": [
    "q3b = ['B']"
   ]
  },
  {
   "cell_type": "code",
   "execution_count": 60,
   "metadata": {
    "deletable": false,
    "editable": false
   },
   "outputs": [
    {
     "data": {
      "text/html": [
       "<p><strong><pre style='display: inline;'>q3b</pre></strong> passed!</p>"
      ],
      "text/plain": [
       "q3b results: All test cases passed!"
      ]
     },
     "execution_count": 60,
     "metadata": {},
     "output_type": "execute_result"
    }
   ],
   "source": [
    "grader.check(\"q3b\")"
   ]
  },
  {
   "cell_type": "markdown",
   "metadata": {},
   "source": [
    "### Question 3c\n",
    "Write a query to retrieve all possible player pair combinations. Project all columns, but **limit to 1000 rows** to ensure your query doesn't take an exorbitant amount of time to run.\n",
    "\n",
    "**Hint:** You can do this by performing an inner join of the `people` table on itself with an inequality condition."
   ]
  },
  {
   "cell_type": "code",
   "execution_count": 61,
   "metadata": {},
   "outputs": [
    {
     "name": "stdout",
     "output_type": "stream",
     "text": [
      " * postgresql://jovyan@127.0.0.1:5432/baseball\n",
      "   postgresql://jovyan@127.0.0.1:5432/postgres\n",
      "1000 rows affected.\n",
      "Returning data to local variable q3c_join\n"
     ]
    }
   ],
   "source": [
    "%%sql q3c_join <<\n",
    "SELECT *\n",
    "FROM people AS p1\n",
    "INNER JOIN people AS p2\n",
    "ON p1.playerid != p2.playerid\n",
    "LIMIT 1000;"
   ]
  },
  {
   "cell_type": "markdown",
   "metadata": {},
   "source": [
    "Inspect the query plan for the query you wrote above."
   ]
  },
  {
   "cell_type": "code",
   "execution_count": 62,
   "metadata": {},
   "outputs": [
    {
     "name": "stdout",
     "output_type": "stream",
     "text": [
      "                                                           QUERY PLAN                                                           \r\n",
      "--------------------------------------------------------------------------------------------------------------------------------\r\n",
      " Limit  (cost=0.00..15.00 rows=1000 width=292) (actual time=0.030..0.993 rows=1000 loops=1)\r\n",
      "   ->  Nested Loop  (cost=0.00..5629241.33 rows=375177530 width=292) (actual time=0.029..0.923 rows=1000 loops=1)\r\n",
      "         Join Filter: ((p1.playerid)::text <> (p2.playerid)::text)\r\n",
      "         Rows Removed by Join Filter: 1\r\n",
      "         ->  Seq Scan on people p1  (cost=0.00..619.70 rows=19370 width=146) (actual time=0.011..0.011 rows=1 loops=1)\r\n",
      "         ->  Materialize  (cost=0.00..716.55 rows=19370 width=146) (actual time=0.010..0.481 rows=1001 loops=1)\r\n",
      "               ->  Seq Scan on people p2  (cost=0.00..619.70 rows=19370 width=146) (actual time=0.001..0.085 rows=1001 loops=1)\r\n",
      " Planning Time: 0.829 ms\r\n",
      " Execution Time: 1.162 ms\r\n",
      "(9 rows)\r\n",
      "\r\n"
     ]
    }
   ],
   "source": [
    "q3c_query_str = \"SELECT * FROM people AS p1 INNER JOIN people AS p2 ON p1.playerid != p2.playerid LIMIT 1000\"\n",
    "!psql -h localhost -d baseball -c \"explain analyze $q3c_query_str\""
   ]
  },
  {
   "cell_type": "markdown",
   "metadata": {
    "deletable": false,
    "editable": false
   },
   "source": [
    "Given your findings from inspecting the query plan, answer the following question. Assign the variable `q3c` to a list of all the options which are true for the proposed statement.\n",
    "\n",
    "1. Which join approach did the query optimizer choose?\n",
    "    1. Nested Loop Join\n",
    "    1. Merge Join\n",
    "    1. Hash Join\n",
    "    1. None of the Above\n",
    "\n",
    "**Note:** Your answer should be formatted as follows: `q3c = ['A', 'B']`\n",
    "\n",
    "<!--\n",
    "BEGIN QUESTION\n",
    "name: q3c\n",
    "points: 1\n",
    "-->"
   ]
  },
  {
   "cell_type": "code",
   "execution_count": 63,
   "metadata": {},
   "outputs": [],
   "source": [
    "q3c = ['A']"
   ]
  },
  {
   "cell_type": "code",
   "execution_count": 64,
   "metadata": {
    "deletable": false,
    "editable": false
   },
   "outputs": [
    {
     "data": {
      "text/html": [
       "<p><strong><pre style='display: inline;'>q3c</pre></strong> passed!</p>"
      ],
      "text/plain": [
       "q3c results: All test cases passed!"
      ]
     },
     "execution_count": 64,
     "metadata": {},
     "output_type": "execute_result"
    }
   ],
   "source": [
    "grader.check(\"q3c\")"
   ]
  },
  {
   "cell_type": "markdown",
   "metadata": {
    "deletable": false,
    "editable": false
   },
   "source": [
    "<!-- BEGIN QUESTION -->\n",
    "\n",
    "### Question 3d\n",
    "Please discuss your findings in the previous parts. In particular, we are interested in hearing why you think the query optimizer chooses the ultimate join approach in each of the above three scenarios. Feel free to discuss the pros and cons of each join approach as well.\n",
    "\n",
    "If you feel stuck, here are some things to consider: Does a non-equijoin constrain us to certain join approaches? What's an added benefit in regards to the output of merge join?\n",
    "\n",
    "<!--\n",
    "BEGIN QUESTION\n",
    "name: q3d\n",
    "manual: true\n",
    "points: 3\n",
    "-->"
   ]
  },
  {
   "cell_type": "markdown",
   "metadata": {},
   "source": [
    "For the query in 3a, the query optimizer choose to use a hash join. This is because the players hash table with hash key playerid is able to fit into working memory. Thus when scanning the collegeplaying table it just probes the players hash table for the matching join key. This is much faster than sequentially scanning the players table for the matching playerid. Thus it is faster than a merge join or a nested loop join in this situtation. Hash join is usually always selected if both the tables are large, but not too big for one of them to fit into a hash table. Hash joins also get no added benefit from indexes on the join keys, so if there are no indexes on the join keys then hash join is usually the best option.\n",
    "\n",
    "For the query in 3b, the query optimizer choose to use a merge join. This is because the query also contained a ORDER BY clause on the playerid, and a merge join's output will always be sorted by the join key which in this case is also the playerid, so there is no need to sort after the join. Another benefit to the merge join is that both tables have an index on the playerid join key, so these indexes help speed up the sorting of both tables before they are merged. Merge joins always best when both tables are too large to hash.\n",
    "\n",
    "For the query in 3c, the query optimizers only option is to use a nested loop join. This is because of the non-equijoin. Hash and Merge join are only applicable when there is an equijoin. In general nested loop joins are better when one of the relations is small. This is because the inner loop will not be executed that many times is the outer relation is small."
   ]
  },
  {
   "cell_type": "markdown",
   "metadata": {},
   "source": [
    "<!-- END QUESTION -->\n",
    "\n",
    "\n",
    "\n",
    "## Question 4: Indexes\n",
    "\n",
    "### Question 4a:\n",
    "Write a query that outputs the `playerid` and average `salary` for each player that only batted in 10 games (the number of games in which a player batted can be found in the `g_batting` column of the `appearances` table). Your query should join the `salaries` and `appearances` table on all the common columns `yearid`, `teamid`, and `playerid`, so feel free to use a natural join."
   ]
  },
  {
   "cell_type": "code",
   "execution_count": 65,
   "metadata": {},
   "outputs": [
    {
     "name": "stdout",
     "output_type": "stream",
     "text": [
      " * postgresql://jovyan@127.0.0.1:5432/baseball\n",
      "   postgresql://jovyan@127.0.0.1:5432/postgres\n",
      "134 rows affected.\n",
      "Returning data to local variable result_4a\n"
     ]
    }
   ],
   "source": [
    "%%sql result_4a <<\n",
    "SELECT playerid, AVG(salary)\n",
    "FROM salaries AS s\n",
    "NATURAL JOIN appearances AS a\n",
    "WHERE a.g_batting = 10\n",
    "GROUP BY playerid;"
   ]
  },
  {
   "cell_type": "code",
   "execution_count": 66,
   "metadata": {},
   "outputs": [],
   "source": [
    "# Do not delete/edit this cell\n",
    "result_4a.DataFrame().sort_values('playerid').to_csv('results/result_4a.csv', index=False)"
   ]
  },
  {
   "cell_type": "code",
   "execution_count": 67,
   "metadata": {
    "deletable": false,
    "editable": false
   },
   "outputs": [
    {
     "data": {
      "text/html": [
       "<p><strong><pre style='display: inline;'>q4ai</pre></strong> passed!</p>"
      ],
      "text/plain": [
       "q4ai results: All test cases passed!"
      ]
     },
     "execution_count": 67,
     "metadata": {},
     "output_type": "execute_result"
    }
   ],
   "source": [
    "grader.check(\"q4ai\")"
   ]
  },
  {
   "cell_type": "markdown",
   "metadata": {},
   "source": [
    "Inspect the query plan and record the execution time and cost."
   ]
  },
  {
   "cell_type": "code",
   "execution_count": 68,
   "metadata": {},
   "outputs": [
    {
     "name": "stdout",
     "output_type": "stream",
     "text": [
      "                                                                                   QUERY PLAN                                                                                   \r\n",
      "--------------------------------------------------------------------------------------------------------------------------------------------------------------------------------\r\n",
      " GroupAggregate  (cost=3635.70..3635.73 rows=1 width=17) (actual time=21.541..21.609 rows=134 loops=1)\r\n",
      "   Group Key: s.playerid\r\n",
      "   ->  Sort  (cost=3635.70..3635.71 rows=1 width=17) (actual time=21.528..21.538 rows=138 loops=1)\r\n",
      "         Sort Key: s.playerid\r\n",
      "         Sort Method: quicksort  Memory: 35kB\r\n",
      "         ->  Hash Join  (cost=2898.92..3635.69 rows=1 width=17) (actual time=13.273..21.332 rows=138 loops=1)\r\n",
      "               Hash Cond: ((s.yearid = a.yearid) AND ((s.teamid)::text = (a.teamid)::text) AND ((s.lgid)::text = (a.lgid)::text) AND ((s.playerid)::text = (a.playerid)::text))\r\n",
      "               ->  Seq Scan on salaries s  (cost=0.00..459.28 rows=26428 width=28) (actual time=0.006..1.908 rows=26428 loops=1)\r\n",
      "               ->  Hash  (cost=2873.20..2873.20 rows=1286 width=20) (actual time=13.086..13.087 rows=1347 loops=1)\r\n",
      "                     Buckets: 2048  Batches: 1  Memory Usage: 86kB\r\n",
      "                     ->  Seq Scan on appearances a  (cost=0.00..2873.20 rows=1286 width=20) (actual time=0.007..12.513 rows=1347 loops=1)\r\n",
      "                           Filter: (g_batting = 10)\r\n",
      "                           Rows Removed by Filter: 102909\r\n",
      " Planning Time: 1.727 ms\r\n",
      " Execution Time: 21.735 ms\r\n",
      "(15 rows)\r\n",
      "\r\n"
     ]
    }
   ],
   "source": [
    "result_4a_query_str = \"SELECT playerid, AVG(salary) FROM salaries AS s NATURAL JOIN appearances AS a WHERE a.g_batting = 10 GROUP BY playerid\"\n",
    "!psql -h localhost -d baseball -c \"explain analyze $result_4a_query_str\""
   ]
  },
  {
   "cell_type": "code",
   "execution_count": 69,
   "metadata": {},
   "outputs": [],
   "source": [
    "result_4a_cost = 3635.73\n",
    "result_4a_timing = 21.735"
   ]
  },
  {
   "cell_type": "code",
   "execution_count": 70,
   "metadata": {
    "deletable": false,
    "editable": false
   },
   "outputs": [
    {
     "data": {
      "text/html": [
       "<p><strong><pre style='display: inline;'>q4aii</pre></strong> passed!</p>"
      ],
      "text/plain": [
       "q4aii results: All test cases passed!"
      ]
     },
     "execution_count": 70,
     "metadata": {},
     "output_type": "execute_result"
    }
   ],
   "source": [
    "grader.check(\"q4aii\")"
   ]
  },
  {
   "cell_type": "markdown",
   "metadata": {},
   "source": [
    "### Question 4b:\n",
    "Add an index with name `g_batting_idx` on the `g_batting` column of the `appearances` table."
   ]
  },
  {
   "cell_type": "code",
   "execution_count": 71,
   "metadata": {},
   "outputs": [
    {
     "name": "stdout",
     "output_type": "stream",
     "text": [
      " * postgresql://jovyan@127.0.0.1:5432/baseball\n",
      "   postgresql://jovyan@127.0.0.1:5432/postgres\n",
      "Done.\n",
      "Returning data to local variable result_4b\n"
     ]
    }
   ],
   "source": [
    "%%sql result_4b <<\n",
    "CREATE INDEX g_batting_idx ON appearances(g_batting)"
   ]
  },
  {
   "cell_type": "markdown",
   "metadata": {},
   "source": [
    "Now, re-inspect the query plan of the query from `Question 4a` and record its execution time and cost."
   ]
  },
  {
   "cell_type": "code",
   "execution_count": 72,
   "metadata": {},
   "outputs": [
    {
     "name": "stdout",
     "output_type": "stream",
     "text": [
      "                                                                                   QUERY PLAN                                                                                   \r\n",
      "--------------------------------------------------------------------------------------------------------------------------------------------------------------------------------\r\n",
      " GroupAggregate  (cost=2360.13..2360.15 rows=1 width=17) (actual time=10.923..11.001 rows=134 loops=1)\r\n",
      "   Group Key: s.playerid\r\n",
      "   ->  Sort  (cost=2360.13..2360.14 rows=1 width=17) (actual time=10.909..10.921 rows=138 loops=1)\r\n",
      "         Sort Key: s.playerid\r\n",
      "         Sort Method: quicksort  Memory: 35kB\r\n",
      "         ->  Hash Join  (cost=1623.35..2360.12 rows=1 width=17) (actual time=2.766..10.738 rows=138 loops=1)\r\n",
      "               Hash Cond: ((s.yearid = a.yearid) AND ((s.teamid)::text = (a.teamid)::text) AND ((s.lgid)::text = (a.lgid)::text) AND ((s.playerid)::text = (a.playerid)::text))\r\n",
      "               ->  Seq Scan on salaries s  (cost=0.00..459.28 rows=26428 width=28) (actual time=0.005..1.820 rows=26428 loops=1)\r\n",
      "               ->  Hash  (cost=1597.63..1597.63 rows=1286 width=20) (actual time=2.582..2.585 rows=1347 loops=1)\r\n",
      "                     Buckets: 2048  Batches: 1  Memory Usage: 86kB\r\n",
      "                     ->  Bitmap Heap Scan on appearances a  (cost=18.26..1597.63 rows=1286 width=20) (actual time=0.308..2.138 rows=1347 loops=1)\r\n",
      "                           Recheck Cond: (g_batting = 10)\r\n",
      "                           Heap Blocks: exact=899\r\n",
      "                           ->  Bitmap Index Scan on g_batting_idx  (cost=0.00..17.94 rows=1286 width=0) (actual time=0.188..0.189 rows=1347 loops=1)\r\n",
      "                                 Index Cond: (g_batting = 10)\r\n",
      " Planning Time: 1.791 ms\r\n",
      " Execution Time: 11.156 ms\r\n",
      "(17 rows)\r\n",
      "\r\n"
     ]
    }
   ],
   "source": [
    "!psql -h localhost -d baseball -c \"explain analyze $result_4a_query_str\""
   ]
  },
  {
   "cell_type": "code",
   "execution_count": 75,
   "metadata": {},
   "outputs": [],
   "source": [
    "result_4b_cost = 2360.15\n",
    "result_4b_timing = 11.156"
   ]
  },
  {
   "cell_type": "code",
   "execution_count": 76,
   "metadata": {
    "deletable": false,
    "editable": false
   },
   "outputs": [
    {
     "data": {
      "text/html": [
       "<p><strong><pre style='display: inline;'>q4b</pre></strong> passed!</p>"
      ],
      "text/plain": [
       "q4b results: All test cases passed!"
      ]
     },
     "execution_count": 76,
     "metadata": {},
     "output_type": "execute_result"
    }
   ],
   "source": [
    "grader.check(\"q4b\")"
   ]
  },
  {
   "cell_type": "markdown",
   "metadata": {},
   "source": [
    "In the following question, we will explore adding a different index and evaluating the query from `Question 4a`. To avoid any interference by the `g_batting_idx` index, **drop the index before moving onto the next question.**"
   ]
  },
  {
   "cell_type": "code",
   "execution_count": 77,
   "metadata": {},
   "outputs": [
    {
     "name": "stdout",
     "output_type": "stream",
     "text": [
      " * postgresql://jovyan@127.0.0.1:5432/baseball\n",
      "   postgresql://jovyan@127.0.0.1:5432/postgres\n",
      "Done.\n"
     ]
    },
    {
     "data": {
      "text/plain": [
       "[]"
      ]
     },
     "execution_count": 77,
     "metadata": {},
     "output_type": "execute_result"
    }
   ],
   "source": [
    "%%sql \n",
    "DROP INDEX g_batting_idx;"
   ]
  },
  {
   "cell_type": "markdown",
   "metadata": {},
   "source": [
    "### Question 4c:\n",
    "Write a query to add an index with name `salary_idx` on the `salary` column of the `salaries` table."
   ]
  },
  {
   "cell_type": "code",
   "execution_count": 78,
   "metadata": {},
   "outputs": [
    {
     "name": "stdout",
     "output_type": "stream",
     "text": [
      " * postgresql://jovyan@127.0.0.1:5432/baseball\n",
      "   postgresql://jovyan@127.0.0.1:5432/postgres\n",
      "Done.\n",
      "Returning data to local variable result_4c\n"
     ]
    }
   ],
   "source": [
    "%%sql result_4c <<\n",
    "CREATE INDEX salary_idx ON salaries(salary)"
   ]
  },
  {
   "cell_type": "markdown",
   "metadata": {},
   "source": [
    "Re-inspect the query plan of the query from the `Question 4a` and record its execution time and cost."
   ]
  },
  {
   "cell_type": "code",
   "execution_count": 79,
   "metadata": {},
   "outputs": [
    {
     "name": "stdout",
     "output_type": "stream",
     "text": [
      "                                                                                   QUERY PLAN                                                                                   \r\n",
      "--------------------------------------------------------------------------------------------------------------------------------------------------------------------------------\r\n",
      " GroupAggregate  (cost=3635.70..3635.73 rows=1 width=17) (actual time=20.536..20.605 rows=134 loops=1)\r\n",
      "   Group Key: s.playerid\r\n",
      "   ->  Sort  (cost=3635.70..3635.71 rows=1 width=17) (actual time=20.521..20.531 rows=138 loops=1)\r\n",
      "         Sort Key: s.playerid\r\n",
      "         Sort Method: quicksort  Memory: 35kB\r\n",
      "         ->  Hash Join  (cost=2898.92..3635.69 rows=1 width=17) (actual time=12.527..20.294 rows=138 loops=1)\r\n",
      "               Hash Cond: ((s.yearid = a.yearid) AND ((s.teamid)::text = (a.teamid)::text) AND ((s.lgid)::text = (a.lgid)::text) AND ((s.playerid)::text = (a.playerid)::text))\r\n",
      "               ->  Seq Scan on salaries s  (cost=0.00..459.28 rows=26428 width=28) (actual time=0.005..1.918 rows=26428 loops=1)\r\n",
      "               ->  Hash  (cost=2873.20..2873.20 rows=1286 width=20) (actual time=12.342..12.344 rows=1347 loops=1)\r\n",
      "                     Buckets: 2048  Batches: 1  Memory Usage: 86kB\r\n",
      "                     ->  Seq Scan on appearances a  (cost=0.00..2873.20 rows=1286 width=20) (actual time=0.013..11.787 rows=1347 loops=1)\r\n",
      "                           Filter: (g_batting = 10)\r\n",
      "                           Rows Removed by Filter: 102909\r\n",
      " Planning Time: 1.574 ms\r\n",
      " Execution Time: 20.755 ms\r\n",
      "(15 rows)\r\n",
      "\r\n"
     ]
    }
   ],
   "source": [
    "!psql -h localhost -d baseball -c \"explain analyze $result_4a_query_str\""
   ]
  },
  {
   "cell_type": "code",
   "execution_count": 80,
   "metadata": {},
   "outputs": [],
   "source": [
    "result_4c_cost = 3635.73\n",
    "result_4c_timing = 20.755"
   ]
  },
  {
   "cell_type": "code",
   "execution_count": 81,
   "metadata": {
    "deletable": false,
    "editable": false
   },
   "outputs": [
    {
     "data": {
      "text/html": [
       "<p><strong><pre style='display: inline;'>q4c</pre></strong> passed!</p>"
      ],
      "text/plain": [
       "q4c results: All test cases passed!"
      ]
     },
     "execution_count": 81,
     "metadata": {},
     "output_type": "execute_result"
    }
   ],
   "source": [
    "grader.check(\"q4c\")"
   ]
  },
  {
   "cell_type": "markdown",
   "metadata": {
    "deletable": false,
    "editable": false
   },
   "source": [
    "### Question 4d:\n",
    "#### Question 4di:\n",
    "Given your findings from inspecting the query plans with no indexes, an index on `g_batting`, and an index on `salary`, answer the following question. Assign the variable `q4d_part1` to a list of all options which are true for the proposed statement.\n",
    "\n",
    "1. Consider the following statements:\n",
    "    1. Adding the `g_batting` index did not have a significant impact on the query execution time and cost.\n",
    "    1. Adding the `g_batting` index did have a significant impact on the query execution time, but not the cost.\n",
    "    1. Adding the `g_batting` index did have a significant impact on the query cost, but not the execution time.\n",
    "    1. Adding the `g_batting` index did have a significant impact on the query cost and execution time.\n",
    "    1. Adding the `salary` index did not have a significant impact on the query execution time and cost.\n",
    "    1. Adding the `salary` index did have a significant impact on the query execution time, but not the cost.\n",
    "    1. Adding the `salary` index did have a significant impact on the query cost, but not the execution time.\n",
    "    1. Adding the `salary` index did have a significant impact on the query cost and execution time.\n",
    "\n",
    "**Note:** Your answer should be formatted as follows: `q4d_part1 = ['A', 'B']`\n",
    "\n",
    "<!--\n",
    "BEGIN QUESTION\n",
    "name: q4di\n",
    "points: 2\n",
    "-->"
   ]
  },
  {
   "cell_type": "code",
   "execution_count": 82,
   "metadata": {},
   "outputs": [],
   "source": [
    "q4d_part1 = ['D', 'E']"
   ]
  },
  {
   "cell_type": "code",
   "execution_count": 83,
   "metadata": {
    "deletable": false,
    "editable": false
   },
   "outputs": [
    {
     "data": {
      "text/html": [
       "<p><strong><pre style='display: inline;'>q4di</pre></strong> passed!</p>"
      ],
      "text/plain": [
       "q4di results: All test cases passed!"
      ]
     },
     "execution_count": 83,
     "metadata": {},
     "output_type": "execute_result"
    }
   ],
   "source": [
    "grader.check(\"q4di\")"
   ]
  },
  {
   "cell_type": "markdown",
   "metadata": {
    "deletable": false,
    "editable": false
   },
   "source": [
    "<!-- BEGIN QUESTION -->\n",
    "\n",
    "#### Question 4dii:\n",
    "\n",
    "Explain your answer based on your knowledge from lectures, and details from inspecting the query plans (your explanation should include why you didn't choose certain options).\n",
    "\n",
    "<!--\n",
    "BEGIN QUESTION\n",
    "name: q4dii\n",
    "manual: true\n",
    "points: 2\n",
    "-->"
   ]
  },
  {
   "cell_type": "markdown",
   "metadata": {},
   "source": [
    "D is true. Based on the query plans, the cost and execution time are both lower with the index on g_batting compaired to without the index on g_batting. This is because we are filtering by g_batting = 10 and adding an index on this attribute allowed the query plan to go directly to the pages where the tuples had g_batting = 10 as opposed to having to do a sequential scan on all the tuples to find which ones have g_batting = 10. Thus A,B, and C are false. \n",
    "\n",
    "E is true. Based on the query plan, the cost and execution time are basically the same. This is because we were not filtering by salary, we were still filtering by g_batting, so the index didn't help to find our tuples that satified out filter condition. We were just aggregating on salary, so we still had to go through all the values anyway."
   ]
  },
  {
   "cell_type": "markdown",
   "metadata": {},
   "source": [
    "<!-- END QUESTION -->\n",
    "\n",
    "\n",
    "\n",
    "In the following question, we will further explore the impact of indexes on query performance. To avoid any interference by the `salary_idx` index, please drop the index before moving onto the next question."
   ]
  },
  {
   "cell_type": "code",
   "execution_count": 84,
   "metadata": {},
   "outputs": [
    {
     "name": "stdout",
     "output_type": "stream",
     "text": [
      " * postgresql://jovyan@127.0.0.1:5432/baseball\n",
      "   postgresql://jovyan@127.0.0.1:5432/postgres\n",
      "Done.\n"
     ]
    },
    {
     "data": {
      "text/plain": [
       "[]"
      ]
     },
     "execution_count": 84,
     "metadata": {},
     "output_type": "execute_result"
    }
   ],
   "source": [
    "%%sql \n",
    "DROP INDEX salary_idx;"
   ]
  },
  {
   "cell_type": "markdown",
   "metadata": {},
   "source": [
    "### Question 4e:\n",
    "#### Question 4ei:\n",
    "Write a query that finds the `playerid`, `yearid`, and `salary` for each player that had played 10 games and batted in 10 games (the number of games in which a player played can be found in the `g_all` column of the `appearances` table). Your query should join the `salaries` and `appearances` table on all the common columns `yearid`, `teamid`, and `playerid`, so feel free to use a natural join."
   ]
  },
  {
   "cell_type": "code",
   "execution_count": 85,
   "metadata": {},
   "outputs": [
    {
     "name": "stdout",
     "output_type": "stream",
     "text": [
      " * postgresql://jovyan@127.0.0.1:5432/baseball\n",
      "   postgresql://jovyan@127.0.0.1:5432/postgres\n",
      "120 rows affected.\n",
      "Returning data to local variable result_4ei\n"
     ]
    }
   ],
   "source": [
    "%%sql result_4ei <<\n",
    "SELECT playerid, yearid, salary\n",
    "FROM salaries\n",
    "NATURAL JOIN appearances\n",
    "WHERE g_all = 10 AND g_batting = 10;"
   ]
  },
  {
   "cell_type": "code",
   "execution_count": 86,
   "metadata": {},
   "outputs": [],
   "source": [
    "# Do not delete/edit this cell\n",
    "result_4ei.DataFrame().sort_values(['playerid', 'yearid']).to_csv('results/result_4ei.csv', index=False)"
   ]
  },
  {
   "cell_type": "code",
   "execution_count": 87,
   "metadata": {
    "deletable": false,
    "editable": false
   },
   "outputs": [
    {
     "data": {
      "text/html": [
       "<p><strong><pre style='display: inline;'>q4ei_part1</pre></strong> passed!</p>"
      ],
      "text/plain": [
       "q4ei_part1 results: All test cases passed!"
      ]
     },
     "execution_count": 87,
     "metadata": {},
     "output_type": "execute_result"
    }
   ],
   "source": [
    "grader.check(\"q4ei_part1\")"
   ]
  },
  {
   "cell_type": "markdown",
   "metadata": {},
   "source": [
    "Inspect the query plan and record the execution time and cost."
   ]
  },
  {
   "cell_type": "code",
   "execution_count": 88,
   "metadata": {},
   "outputs": [
    {
     "name": "stdout",
     "output_type": "stream",
     "text": [
      "                                                                                                QUERY PLAN                                                                                                 \r\n",
      "-----------------------------------------------------------------------------------------------------------------------------------------------------------------------------------------------------------\r\n",
      " Nested Loop  (cost=0.29..3287.78 rows=1 width=21) (actual time=18.942..33.044 rows=120 loops=1)\r\n",
      "   ->  Seq Scan on appearances  (cost=0.00..3133.84 rows=19 width=20) (actual time=0.018..26.220 rows=1289 loops=1)\r\n",
      "         Filter: ((g_all = 10) AND (g_batting = 10))\r\n",
      "         Rows Removed by Filter: 102967\r\n",
      "   ->  Index Scan using salaries_pkey on salaries  (cost=0.29..8.10 rows=1 width=28) (actual time=0.004..0.004 rows=0 loops=1289)\r\n",
      "         Index Cond: ((yearid = appearances.yearid) AND ((teamid)::text = (appearances.teamid)::text) AND ((lgid)::text = (appearances.lgid)::text) AND ((playerid)::text = (appearances.playerid)::text))\r\n",
      " Planning Time: 3.205 ms\r\n",
      " Execution Time: 33.167 ms\r\n",
      "(8 rows)\r\n",
      "\r\n"
     ]
    }
   ],
   "source": [
    "result_4ei_query_str = \"SELECT playerid, yearid, salary FROM salaries NATURAL JOIN appearances WHERE g_all = 10 AND g_batting = 10\"\n",
    "!psql -h localhost -d baseball -c \"explain analyze $result_4ei_query_str\""
   ]
  },
  {
   "cell_type": "code",
   "execution_count": 89,
   "metadata": {},
   "outputs": [],
   "source": [
    "result_4ei_cost = 3300.40\n",
    "result_4ei_timing = 18.860"
   ]
  },
  {
   "cell_type": "code",
   "execution_count": 90,
   "metadata": {
    "deletable": false,
    "editable": false
   },
   "outputs": [
    {
     "data": {
      "text/html": [
       "<p><strong><pre style='display: inline;'>q4ei_part2</pre></strong> passed!</p>"
      ],
      "text/plain": [
       "q4ei_part2 results: All test cases passed!"
      ]
     },
     "execution_count": 90,
     "metadata": {},
     "output_type": "execute_result"
    }
   ],
   "source": [
    "grader.check(\"q4ei_part2\")"
   ]
  },
  {
   "cell_type": "markdown",
   "metadata": {},
   "source": [
    "#### Question 4eii:\n",
    "Now, let's see the impact of adding an index on the `g_batting` column. Create an index on the `g_batting` column. Re-inspect the query from `Question 4ei` and record the execution time and cost."
   ]
  },
  {
   "cell_type": "code",
   "execution_count": 91,
   "metadata": {
    "scrolled": true
   },
   "outputs": [
    {
     "name": "stdout",
     "output_type": "stream",
     "text": [
      " * postgresql://jovyan@127.0.0.1:5432/baseball\n",
      "   postgresql://jovyan@127.0.0.1:5432/postgres\n",
      "Done.\n",
      "Returning data to local variable result_4eii\n"
     ]
    }
   ],
   "source": [
    "%%sql result_4eii << \n",
    "CREATE INDEX g_batting_idx ON appearances(g_batting)"
   ]
  },
  {
   "cell_type": "code",
   "execution_count": 92,
   "metadata": {
    "scrolled": true
   },
   "outputs": [
    {
     "name": "stdout",
     "output_type": "stream",
     "text": [
      "                                                                                                QUERY PLAN                                                                                                 \r\n",
      "-----------------------------------------------------------------------------------------------------------------------------------------------------------------------------------------------------------\r\n",
      " Nested Loop  (cost=18.23..1754.46 rows=1 width=21) (actual time=2.662..5.246 rows=120 loops=1)\r\n",
      "   ->  Bitmap Heap Scan on appearances  (cost=17.94..1600.52 rows=19 width=20) (actual time=0.314..2.156 rows=1289 loops=1)\r\n",
      "         Recheck Cond: (g_batting = 10)\r\n",
      "         Filter: (g_all = 10)\r\n",
      "         Rows Removed by Filter: 58\r\n",
      "         Heap Blocks: exact=899\r\n",
      "         ->  Bitmap Index Scan on g_batting_idx  (cost=0.00..17.94 rows=1286 width=0) (actual time=0.194..0.195 rows=1347 loops=1)\r\n",
      "               Index Cond: (g_batting = 10)\r\n",
      "   ->  Index Scan using salaries_pkey on salaries  (cost=0.29..8.10 rows=1 width=28) (actual time=0.002..0.002 rows=0 loops=1289)\r\n",
      "         Index Cond: ((yearid = appearances.yearid) AND ((teamid)::text = (appearances.teamid)::text) AND ((lgid)::text = (appearances.lgid)::text) AND ((playerid)::text = (appearances.playerid)::text))\r\n",
      " Planning Time: 1.723 ms\r\n",
      " Execution Time: 5.336 ms\r\n",
      "(12 rows)\r\n",
      "\r\n"
     ]
    }
   ],
   "source": [
    "!psql -h localhost -d baseball -c \"explain analyze $result_4ei_query_str\""
   ]
  },
  {
   "cell_type": "code",
   "execution_count": 93,
   "metadata": {},
   "outputs": [],
   "source": [
    "result_4eii_with_index_cost = 1782.99\n",
    "result_4eii_with_index_timing = 6.309"
   ]
  },
  {
   "cell_type": "code",
   "execution_count": 94,
   "metadata": {
    "deletable": false,
    "editable": false
   },
   "outputs": [
    {
     "data": {
      "text/html": [
       "<p><strong><pre style='display: inline;'>q4eii</pre></strong> passed!</p>"
      ],
      "text/plain": [
       "q4eii results: All test cases passed!"
      ]
     },
     "execution_count": 94,
     "metadata": {},
     "output_type": "execute_result"
    }
   ],
   "source": [
    "grader.check(\"q4eii\")"
   ]
  },
  {
   "cell_type": "markdown",
   "metadata": {},
   "source": [
    "In the following question, we will further explore the impact of indexes on query performance. To avoid any interference from the index on the `g_batting` column, drop the index before moving onto the next question."
   ]
  },
  {
   "cell_type": "code",
   "execution_count": 95,
   "metadata": {},
   "outputs": [
    {
     "name": "stdout",
     "output_type": "stream",
     "text": [
      " * postgresql://jovyan@127.0.0.1:5432/baseball\n",
      "   postgresql://jovyan@127.0.0.1:5432/postgres\n",
      "Done.\n"
     ]
    },
    {
     "data": {
      "text/plain": [
       "[]"
      ]
     },
     "execution_count": 95,
     "metadata": {},
     "output_type": "execute_result"
    }
   ],
   "source": [
    "%%sql \n",
    "DROP INDEX g_batting_idx"
   ]
  },
  {
   "cell_type": "markdown",
   "metadata": {},
   "source": [
    "#### Question 4eiii:\n",
    "Write a query that finds the `playerid`, `yearid`, and `salary` for each player that had played 10 games __or__ batted in 10 games. Your query should join the `salaries` and `appearances` table on all the common columns `yearid`, `teamid`, and `playerid`, so feel free to use a natural join."
   ]
  },
  {
   "cell_type": "code",
   "execution_count": 96,
   "metadata": {},
   "outputs": [
    {
     "name": "stdout",
     "output_type": "stream",
     "text": [
      " * postgresql://jovyan@127.0.0.1:5432/baseball\n",
      "   postgresql://jovyan@127.0.0.1:5432/postgres\n",
      "216 rows affected.\n",
      "Returning data to local variable result_4eiii\n"
     ]
    }
   ],
   "source": [
    "%%sql result_4eiii <<\n",
    "SELECT playerid, yearid, salary\n",
    "FROM salaries\n",
    "NATURAL JOIN appearances\n",
    "WHERE g_all = 10 OR g_batting = 10;"
   ]
  },
  {
   "cell_type": "code",
   "execution_count": 97,
   "metadata": {},
   "outputs": [],
   "source": [
    "# Do not delete/edit this cell\n",
    "result_4eiii.DataFrame().sort_values(['playerid', 'yearid']).to_csv('results/result_4eiii.csv', index=False)"
   ]
  },
  {
   "cell_type": "code",
   "execution_count": 98,
   "metadata": {
    "deletable": false,
    "editable": false
   },
   "outputs": [
    {
     "data": {
      "text/html": [
       "<p><strong><pre style='display: inline;'>q4eiii_part1</pre></strong> passed!</p>"
      ],
      "text/plain": [
       "q4eiii_part1 results: All test cases passed!"
      ]
     },
     "execution_count": 98,
     "metadata": {},
     "output_type": "execute_result"
    }
   ],
   "source": [
    "grader.check(\"q4eiii_part1\")"
   ]
  },
  {
   "cell_type": "code",
   "execution_count": 99,
   "metadata": {},
   "outputs": [
    {
     "name": "stdout",
     "output_type": "stream",
     "text": [
      "                                                                                                               QUERY PLAN                                                                                                               \r\n",
      "----------------------------------------------------------------------------------------------------------------------------------------------------------------------------------------------------------------------------------------\r\n",
      " Hash Join  (cost=3190.66..3927.43 rows=1 width=21) (actual time=14.344..22.402 rows=216 loops=1)\r\n",
      "   Hash Cond: ((salaries.yearid = appearances.yearid) AND ((salaries.teamid)::text = (appearances.teamid)::text) AND ((salaries.lgid)::text = (appearances.lgid)::text) AND ((salaries.playerid)::text = (appearances.playerid)::text))\r\n",
      "   ->  Seq Scan on salaries  (cost=0.00..459.28 rows=26428 width=28) (actual time=0.006..1.854 rows=26428 loops=1)\r\n",
      "   ->  Hash  (cost=3133.84..3133.84 rows=2841 width=20) (actual time=14.121..14.124 rows=1655 loops=1)\r\n",
      "         Buckets: 4096  Batches: 1  Memory Usage: 118kB\r\n",
      "         ->  Seq Scan on appearances  (cost=0.00..3133.84 rows=2841 width=20) (actual time=0.007..13.414 rows=1655 loops=1)\r\n",
      "               Filter: ((g_all = 10) OR (g_batting = 10))\r\n",
      "               Rows Removed by Filter: 102601\r\n",
      " Planning Time: 1.624 ms\r\n",
      " Execution Time: 22.485 ms\r\n",
      "(10 rows)\r\n",
      "\r\n"
     ]
    }
   ],
   "source": [
    "result_4eiii_query_str = \"SELECT playerid, yearid, salary FROM salaries NATURAL JOIN appearances WHERE g_all = 10 OR g_batting = 10\"\n",
    "!psql -h localhost -d baseball -c \"explain analyze $result_4eiii_query_str\""
   ]
  },
  {
   "cell_type": "code",
   "execution_count": 100,
   "metadata": {},
   "outputs": [],
   "source": [
    "result_4eiii_cost = 3930.03\n",
    "result_4eiii_timing = 25.412"
   ]
  },
  {
   "cell_type": "code",
   "execution_count": 101,
   "metadata": {
    "deletable": false,
    "editable": false
   },
   "outputs": [
    {
     "data": {
      "text/html": [
       "<p><strong><pre style='display: inline;'>q4eiii_part2</pre></strong> passed!</p>"
      ],
      "text/plain": [
       "q4eiii_part2 results: All test cases passed!"
      ]
     },
     "execution_count": 101,
     "metadata": {},
     "output_type": "execute_result"
    }
   ],
   "source": [
    "grader.check(\"q4eiii_part2\")"
   ]
  },
  {
   "cell_type": "markdown",
   "metadata": {},
   "source": [
    "#### Question 4eiv\n",
    "Now, let's see the impact of adding an index on `g_batting` column will have on the query. Re-create the index and re-inspect the query from `Question 4eiii` and record the execution time and cost."
   ]
  },
  {
   "cell_type": "code",
   "execution_count": 102,
   "metadata": {
    "scrolled": true
   },
   "outputs": [
    {
     "name": "stdout",
     "output_type": "stream",
     "text": [
      " * postgresql://jovyan@127.0.0.1:5432/baseball\n",
      "   postgresql://jovyan@127.0.0.1:5432/postgres\n",
      "Done.\n",
      "Returning data to local variable result_4eiv\n"
     ]
    }
   ],
   "source": [
    "%%sql result_4eiv << \n",
    "CREATE INDEX g_batting_idx ON appearances(g_batting)"
   ]
  },
  {
   "cell_type": "code",
   "execution_count": 103,
   "metadata": {},
   "outputs": [
    {
     "name": "stdout",
     "output_type": "stream",
     "text": [
      "                                                                                                               QUERY PLAN                                                                                                               \r\n",
      "----------------------------------------------------------------------------------------------------------------------------------------------------------------------------------------------------------------------------------------\r\n",
      " Hash Join  (cost=3190.66..3927.43 rows=1 width=21) (actual time=15.598..23.828 rows=216 loops=1)\r\n",
      "   Hash Cond: ((salaries.yearid = appearances.yearid) AND ((salaries.teamid)::text = (appearances.teamid)::text) AND ((salaries.lgid)::text = (appearances.lgid)::text) AND ((salaries.playerid)::text = (appearances.playerid)::text))\r\n",
      "   ->  Seq Scan on salaries  (cost=0.00..459.28 rows=26428 width=28) (actual time=0.007..1.901 rows=26428 loops=1)\r\n",
      "   ->  Hash  (cost=3133.84..3133.84 rows=2841 width=20) (actual time=15.374..15.377 rows=1655 loops=1)\r\n",
      "         Buckets: 4096  Batches: 1  Memory Usage: 118kB\r\n",
      "         ->  Seq Scan on appearances  (cost=0.00..3133.84 rows=2841 width=20) (actual time=0.009..14.541 rows=1655 loops=1)\r\n",
      "               Filter: ((g_all = 10) OR (g_batting = 10))\r\n",
      "               Rows Removed by Filter: 102601\r\n",
      " Planning Time: 1.793 ms\r\n",
      " Execution Time: 23.916 ms\r\n",
      "(10 rows)\r\n",
      "\r\n"
     ]
    }
   ],
   "source": [
    "!psql -h localhost -d baseball -c \"explain analyze $result_4eiii_query_str\""
   ]
  },
  {
   "cell_type": "code",
   "execution_count": 104,
   "metadata": {},
   "outputs": [],
   "source": [
    "result_4eiv_with_index_cost = 3930.03\n",
    "result_4eiv_with_index_timing = 29.813"
   ]
  },
  {
   "cell_type": "code",
   "execution_count": 105,
   "metadata": {
    "deletable": false,
    "editable": false
   },
   "outputs": [
    {
     "data": {
      "text/html": [
       "<p><strong><pre style='display: inline;'>q4eiv</pre></strong> passed!</p>"
      ],
      "text/plain": [
       "q4eiv results: All test cases passed!"
      ]
     },
     "execution_count": 105,
     "metadata": {},
     "output_type": "execute_result"
    }
   ],
   "source": [
    "grader.check(\"q4eiv\")"
   ]
  },
  {
   "cell_type": "markdown",
   "metadata": {},
   "source": [
    "In the following question, we will further explore the impact of indexes on query performance. To avoid any interference from the index on the `g_batting` column, drop the index before moving onto the next question."
   ]
  },
  {
   "cell_type": "code",
   "execution_count": 106,
   "metadata": {},
   "outputs": [
    {
     "name": "stdout",
     "output_type": "stream",
     "text": [
      " * postgresql://jovyan@127.0.0.1:5432/baseball\n",
      "   postgresql://jovyan@127.0.0.1:5432/postgres\n",
      "Done.\n"
     ]
    },
    {
     "data": {
      "text/plain": [
       "[]"
      ]
     },
     "execution_count": 106,
     "metadata": {},
     "output_type": "execute_result"
    }
   ],
   "source": [
    "%%sql \n",
    "DROP INDEX g_batting_idx"
   ]
  },
  {
   "cell_type": "markdown",
   "metadata": {},
   "source": [
    "#### Question 4ev:\n",
    "Now, create a multiple column index on `g_batting` and `g_all` called `g_batting_g_all_idx` and record the query execution time and cost."
   ]
  },
  {
   "cell_type": "code",
   "execution_count": 107,
   "metadata": {},
   "outputs": [
    {
     "name": "stdout",
     "output_type": "stream",
     "text": [
      " * postgresql://jovyan@127.0.0.1:5432/baseball\n",
      "   postgresql://jovyan@127.0.0.1:5432/postgres\n",
      "Done.\n",
      "Returning data to local variable result_4v\n"
     ]
    }
   ],
   "source": [
    "%%sql result_4v <<\n",
    "CREATE INDEX g_batting_g_all_idx ON appearances(g_batting,g_all)"
   ]
  },
  {
   "cell_type": "code",
   "execution_count": 108,
   "metadata": {},
   "outputs": [
    {
     "name": "stdout",
     "output_type": "stream",
     "text": [
      "                                                                                                               QUERY PLAN                                                                                                               \r\n",
      "----------------------------------------------------------------------------------------------------------------------------------------------------------------------------------------------------------------------------------------\r\n",
      " Hash Join  (cost=2883.94..3620.72 rows=1 width=21) (actual time=5.206..12.957 rows=216 loops=1)\r\n",
      "   Hash Cond: ((salaries.yearid = appearances.yearid) AND ((salaries.teamid)::text = (appearances.teamid)::text) AND ((salaries.lgid)::text = (appearances.lgid)::text) AND ((salaries.playerid)::text = (appearances.playerid)::text))\r\n",
      "   ->  Seq Scan on salaries  (cost=0.00..459.28 rows=26428 width=28) (actual time=0.005..1.856 rows=26428 loops=1)\r\n",
      "   ->  Hash  (cost=2827.12..2827.12 rows=2841 width=20) (actual time=4.964..4.970 rows=1655 loops=1)\r\n",
      "         Buckets: 4096  Batches: 1  Memory Usage: 118kB\r\n",
      "         ->  Bitmap Heap Scan on appearances  (cost=1181.57..2827.12 rows=2841 width=20) (actual time=1.829..4.284 rows=1655 loops=1)\r\n",
      "               Recheck Cond: ((g_all = 10) OR (g_batting = 10))\r\n",
      "               Heap Blocks: exact=1027\r\n",
      "               ->  BitmapOr  (cost=1181.57..1181.57 rows=2860 width=0) (actual time=1.680..1.682 rows=0 loops=1)\r\n",
      "                     ->  Bitmap Index Scan on g_batting_g_all_idx  (cost=0.00..1162.21 rows=1574 width=0) (actual time=1.615..1.615 rows=1597 loops=1)\r\n",
      "                           Index Cond: (g_all = 10)\r\n",
      "                     ->  Bitmap Index Scan on g_batting_g_all_idx  (cost=0.00..17.94 rows=1286 width=0) (actual time=0.063..0.063 rows=1347 loops=1)\r\n",
      "                           Index Cond: (g_batting = 10)\r\n",
      " Planning Time: 1.724 ms\r\n",
      " Execution Time: 13.085 ms\r\n",
      "(15 rows)\r\n",
      "\r\n"
     ]
    }
   ],
   "source": [
    "!psql -h localhost -d baseball -c \"explain analyze $result_4eiii_query_str\""
   ]
  },
  {
   "cell_type": "code",
   "execution_count": 109,
   "metadata": {},
   "outputs": [],
   "source": [
    "result_4ev_multiple_col_index_cost = 3610.64\n",
    "result_4ev_multiple_col_index_timing = 15.559"
   ]
  },
  {
   "cell_type": "code",
   "execution_count": 110,
   "metadata": {
    "deletable": false,
    "editable": false
   },
   "outputs": [
    {
     "data": {
      "text/html": [
       "<p><strong><pre style='display: inline;'>q4ev</pre></strong> passed!</p>"
      ],
      "text/plain": [
       "q4ev results: All test cases passed!"
      ]
     },
     "execution_count": 110,
     "metadata": {},
     "output_type": "execute_result"
    }
   ],
   "source": [
    "grader.check(\"q4ev\")"
   ]
  },
  {
   "cell_type": "markdown",
   "metadata": {
    "deletable": false,
    "editable": false
   },
   "source": [
    "#### Question 4evi:\n",
    "Given your findings from inspecting the query plans from `Question 4e`, answer the following question. Assign the variable `q4e_part6` to a list of all statements that are true.\n",
    "\n",
    "1. Consider the following statements:\n",
    "    1. Adding an index on a column used in an AND predicate will reduce the query time, but not the execution cost.\n",
    "    1. Adding an index on a column used in an AND predicate will reduce the query cost, but not the execution time.\n",
    "    1. Adding an index on a column used in an AND predicate will reduce the query cost and the execution time.\n",
    "    1. Adding an index on a column used in an OR predicate will reduce the query time, but not the execution cost.\n",
    "    1. Adding an index on a column used in an OR predicate will reduce the query cost, but not the execution time.\n",
    "    1. Adding an index on a column used in an OR predicate will reduce the query cost and the execution time.\n",
    "    1. Adding a mutlicolumn index on columns in an OR predicate will reduce the query time, but not the execution cost.\n",
    "    1. Adding a mutlicolumn index on columns in an OR predicate will reduce the query cost, but not the execution time.\n",
    "    1. Adding a mutlicolumn index on columns in an OR predicate will reduce the query cost and the execution time.\n",
    "\n",
    "**Note:** Your answer should be formatted as follows: `q4e_part6 = ['A', 'B']`\n",
    "\n",
    "<!--\n",
    "BEGIN QUESTION\n",
    "name: q4evi\n",
    "points: 2\n",
    "-->"
   ]
  },
  {
   "cell_type": "code",
   "execution_count": 111,
   "metadata": {},
   "outputs": [],
   "source": [
    "q4e_part6 = ['C', 'I']"
   ]
  },
  {
   "cell_type": "code",
   "execution_count": 112,
   "metadata": {
    "deletable": false,
    "editable": false
   },
   "outputs": [
    {
     "data": {
      "text/html": [
       "<p><strong><pre style='display: inline;'>q4evi</pre></strong> passed!</p>"
      ],
      "text/plain": [
       "q4evi results: All test cases passed!"
      ]
     },
     "execution_count": 112,
     "metadata": {},
     "output_type": "execute_result"
    }
   ],
   "source": [
    "grader.check(\"q4evi\")"
   ]
  },
  {
   "cell_type": "markdown",
   "metadata": {
    "deletable": false,
    "editable": false
   },
   "source": [
    "<!-- BEGIN QUESTION -->\n",
    "\n",
    "#### Question 4evii\n",
    "\n",
    "Explain your answer to the previous part based on your knowledge from lectures, and details of the query plans (your explanation should include why you didn't choose certain options).\n",
    "\n",
    "<!--\n",
    "BEGIN QUESTION\n",
    "name: q4evii\n",
    "manual: true\n",
    "points: 2\n",
    "-->"
   ]
  },
  {
   "cell_type": "markdown",
   "metadata": {},
   "source": [
    "C is true. This is reflected by the lower cost and lower execution time reflected in the query plan details for with the index vs without the index. This is because the index on g_batting allowed us to find the tuples with g_batting = 10 by going directly to the pages that contained tuples with that value, as opposed to having to sequentially scan all pages for tuples that satify our constraint. Then once we are at these tuples, we need only to check our second condition, g_all. This is due to the short circut nature of the AND, that is only tuples that satify both conditions are kept, so we need not consider at all tuples that do not satify our first indexed g_batting condition. Thus A and B are false.\n",
    "\n",
    "D, E, and F are all false. This is reflected by the cost and execution time being basically the same in the query plan details for with vs without the index. This is because although the index on g_batting would allow us to find the tuples that have g_batting = 10 more quickly than a sequential scan, in this situation we are looking for tuples with g_batting = 10 or g_all = 10, thus even if we got all the tuples that satified our first g_batting = 10, we would still have to scan all of the other tuples that had g_batting != 10 to look for g_all = 10, which is still scanning all tuples. Thus a sequential scan on all tuples was used to check for both, which is what was done in the query that didn't have an index on g_batting, thus they are the same.\n",
    "\n",
    "I is true. This is reflected by the lower cost and lower execution time reflected in the query plan details for with the multicolumn index vs without the multicolumn index. This is because we can find all the tuples that satisfy our first column in the multicolumn index g_batting directly, but when looking for the tuples that satify the second column, g_all, instead of sequentially scanning all tuples, we can use the index because the second column has a relative ordering in the index where values that have g_all = 10 will be ordered relative to the tuples where g_batting != 10. "
   ]
  },
  {
   "cell_type": "code",
   "execution_count": 113,
   "metadata": {},
   "outputs": [
    {
     "name": "stdout",
     "output_type": "stream",
     "text": [
      " * postgresql://jovyan@127.0.0.1:5432/baseball\n",
      "   postgresql://jovyan@127.0.0.1:5432/postgres\n",
      "Done.\n"
     ]
    },
    {
     "data": {
      "text/plain": [
       "[]"
      ]
     },
     "execution_count": 113,
     "metadata": {},
     "output_type": "execute_result"
    }
   ],
   "source": [
    "%%sql\n",
    "DROP INDEX g_batting_g_all_idx"
   ]
  },
  {
   "cell_type": "markdown",
   "metadata": {},
   "source": [
    "<!-- END QUESTION -->\n",
    "\n",
    "\n",
    "\n",
    "## Question 5: More Indexes\n",
    "### Question 5a:\n",
    "Write 2 queries: one that finds the minimum salary from the salary table and one that finds the average. Inspect the queries' query plans and record their execution times and costs."
   ]
  },
  {
   "cell_type": "code",
   "execution_count": 114,
   "metadata": {},
   "outputs": [
    {
     "name": "stdout",
     "output_type": "stream",
     "text": [
      " * postgresql://jovyan@127.0.0.1:5432/baseball\n",
      "   postgresql://jovyan@127.0.0.1:5432/postgres\n",
      "1 rows affected.\n"
     ]
    },
    {
     "data": {
      "text/html": [
       "<table>\n",
       "    <tr>\n",
       "        <th>avg</th>\n",
       "    </tr>\n",
       "    <tr>\n",
       "        <td>2085634.053125473</td>\n",
       "    </tr>\n",
       "</table>"
      ],
      "text/plain": [
       "[(2085634.053125473,)]"
      ]
     },
     "execution_count": 114,
     "metadata": {},
     "output_type": "execute_result"
    }
   ],
   "source": [
    "%%sql\n",
    "SELECT AVG(salary)\n",
    "FROM salaries;"
   ]
  },
  {
   "cell_type": "code",
   "execution_count": 115,
   "metadata": {},
   "outputs": [
    {
     "name": "stdout",
     "output_type": "stream",
     "text": [
      " * postgresql://jovyan@127.0.0.1:5432/baseball\n",
      "   postgresql://jovyan@127.0.0.1:5432/postgres\n",
      "1 rows affected.\n",
      "Returning data to local variable result_5a_min\n"
     ]
    }
   ],
   "source": [
    "%%sql result_5a_min << \n",
    "SELECT MIN(salary)\n",
    "FROM salaries;"
   ]
  },
  {
   "cell_type": "code",
   "execution_count": 116,
   "metadata": {},
   "outputs": [
    {
     "name": "stdout",
     "output_type": "stream",
     "text": [
      "                                                    QUERY PLAN                                                    \r\n",
      "------------------------------------------------------------------------------------------------------------------\r\n",
      " Aggregate  (cost=525.35..525.36 rows=1 width=8) (actual time=5.795..5.797 rows=1 loops=1)\r\n",
      "   ->  Seq Scan on salaries  (cost=0.00..459.28 rows=26428 width=8) (actual time=0.013..2.401 rows=26428 loops=1)\r\n",
      " Planning Time: 0.428 ms\r\n",
      " Execution Time: 5.863 ms\r\n",
      "(4 rows)\r\n",
      "\r\n"
     ]
    }
   ],
   "source": [
    "result_5a_min_query_str = \"SELECT MIN(salary) FROM salaries\"\n",
    "!psql -h localhost -d baseball -c \"explain analyze $result_5a_min_query_str\""
   ]
  },
  {
   "cell_type": "code",
   "execution_count": 117,
   "metadata": {},
   "outputs": [],
   "source": [
    "result_5a_min_query_cost = 525.36\n",
    "result_5a_min_query_timing = 4.799"
   ]
  },
  {
   "cell_type": "code",
   "execution_count": 118,
   "metadata": {
    "deletable": false,
    "editable": false
   },
   "outputs": [
    {
     "data": {
      "text/html": [
       "<p><strong><pre style='display: inline;'>q5ai</pre></strong> passed!</p>"
      ],
      "text/plain": [
       "q5ai results: All test cases passed!"
      ]
     },
     "execution_count": 118,
     "metadata": {},
     "output_type": "execute_result"
    }
   ],
   "source": [
    "grader.check(\"q5ai\")"
   ]
  },
  {
   "cell_type": "code",
   "execution_count": 119,
   "metadata": {},
   "outputs": [
    {
     "name": "stdout",
     "output_type": "stream",
     "text": [
      " * postgresql://jovyan@127.0.0.1:5432/baseball\n",
      "   postgresql://jovyan@127.0.0.1:5432/postgres\n",
      "1 rows affected.\n",
      "Returning data to local variable result_5a_avg\n"
     ]
    }
   ],
   "source": [
    "%%sql result_5a_avg <<\n",
    "SELECT AVG(salary)\n",
    "FROM salaries;"
   ]
  },
  {
   "cell_type": "code",
   "execution_count": 120,
   "metadata": {},
   "outputs": [
    {
     "name": "stdout",
     "output_type": "stream",
     "text": [
      "                                                    QUERY PLAN                                                    \r\n",
      "------------------------------------------------------------------------------------------------------------------\r\n",
      " Aggregate  (cost=525.35..525.36 rows=1 width=8) (actual time=6.607..6.609 rows=1 loops=1)\r\n",
      "   ->  Seq Scan on salaries  (cost=0.00..459.28 rows=26428 width=8) (actual time=0.006..2.531 rows=26428 loops=1)\r\n",
      " Planning Time: 0.478 ms\r\n",
      " Execution Time: 6.713 ms\r\n",
      "(4 rows)\r\n",
      "\r\n"
     ]
    }
   ],
   "source": [
    "result_5a_avg_query_str = \"SELECT AVG(salary) FROM salaries\"\n",
    "!psql -h localhost -d baseball -c \"explain analyze $result_5a_avg_query_str\""
   ]
  },
  {
   "cell_type": "code",
   "execution_count": 121,
   "metadata": {},
   "outputs": [],
   "source": [
    "result_5a_avg_query_cost = 525.36\n",
    "result_5a_avg_query_timing = 5.671"
   ]
  },
  {
   "cell_type": "code",
   "execution_count": 122,
   "metadata": {
    "deletable": false,
    "editable": false
   },
   "outputs": [
    {
     "data": {
      "text/html": [
       "<p><strong><pre style='display: inline;'>q5aii</pre></strong> passed!</p>"
      ],
      "text/plain": [
       "q5aii results: All test cases passed!"
      ]
     },
     "execution_count": 122,
     "metadata": {},
     "output_type": "execute_result"
    }
   ],
   "source": [
    "grader.check(\"q5aii\")"
   ]
  },
  {
   "cell_type": "markdown",
   "metadata": {},
   "source": [
    "### Question 5b:\n",
    "Create an index on the `salary` column in the `salaries` table and re-inspect the query plans from the previous part and record the respective execution time and cost."
   ]
  },
  {
   "cell_type": "code",
   "execution_count": 123,
   "metadata": {},
   "outputs": [
    {
     "name": "stdout",
     "output_type": "stream",
     "text": [
      " * postgresql://jovyan@127.0.0.1:5432/baseball\n",
      "   postgresql://jovyan@127.0.0.1:5432/postgres\n",
      "Done.\n"
     ]
    },
    {
     "data": {
      "text/plain": [
       "[]"
      ]
     },
     "execution_count": 123,
     "metadata": {},
     "output_type": "execute_result"
    }
   ],
   "source": [
    "%%sql \n",
    "CREATE INDEX salary_idx ON salaries(salary)"
   ]
  },
  {
   "cell_type": "code",
   "execution_count": 124,
   "metadata": {},
   "outputs": [
    {
     "name": "stdout",
     "output_type": "stream",
     "text": [
      "                                                                  QUERY PLAN                                                                  \r\n",
      "----------------------------------------------------------------------------------------------------------------------------------------------\r\n",
      " Result  (cost=0.32..0.33 rows=1 width=8) (actual time=0.062..0.063 rows=1 loops=1)\r\n",
      "   InitPlan 1 (returns $0)\r\n",
      "     ->  Limit  (cost=0.29..0.32 rows=1 width=8) (actual time=0.060..0.060 rows=1 loops=1)\r\n",
      "           ->  Index Only Scan using salary_idx on salaries  (cost=0.29..762.78 rows=26428 width=8) (actual time=0.058..0.058 rows=1 loops=1)\r\n",
      "                 Index Cond: (salary IS NOT NULL)\r\n",
      "                 Heap Fetches: 0\r\n",
      " Planning Time: 0.618 ms\r\n",
      " Execution Time: 0.116 ms\r\n",
      "(8 rows)\r\n",
      "\r\n"
     ]
    }
   ],
   "source": [
    "!psql -h localhost -d baseball -c \"explain analyze $result_5a_min_query_str\""
   ]
  },
  {
   "cell_type": "code",
   "execution_count": 125,
   "metadata": {},
   "outputs": [],
   "source": [
    "result_5b_min_query_cost = 0.33\n",
    "result_5b_min_query_timing = 0.310"
   ]
  },
  {
   "cell_type": "code",
   "execution_count": 126,
   "metadata": {
    "deletable": false,
    "editable": false
   },
   "outputs": [
    {
     "data": {
      "text/html": [
       "<p><strong><pre style='display: inline;'>q5bi</pre></strong> passed!</p>"
      ],
      "text/plain": [
       "q5bi results: All test cases passed!"
      ]
     },
     "execution_count": 126,
     "metadata": {},
     "output_type": "execute_result"
    }
   ],
   "source": [
    "grader.check(\"q5bi\")"
   ]
  },
  {
   "cell_type": "code",
   "execution_count": 127,
   "metadata": {},
   "outputs": [
    {
     "name": "stdout",
     "output_type": "stream",
     "text": [
      "                                                    QUERY PLAN                                                    \r\n",
      "------------------------------------------------------------------------------------------------------------------\r\n",
      " Aggregate  (cost=525.35..525.36 rows=1 width=8) (actual time=5.090..5.092 rows=1 loops=1)\r\n",
      "   ->  Seq Scan on salaries  (cost=0.00..459.28 rows=26428 width=8) (actual time=0.006..1.908 rows=26428 loops=1)\r\n",
      " Planning Time: 0.481 ms\r\n",
      " Execution Time: 5.192 ms\r\n",
      "(4 rows)\r\n",
      "\r\n"
     ]
    }
   ],
   "source": [
    "!psql -h localhost -d baseball -c \"explain analyze $result_5a_avg_query_str\""
   ]
  },
  {
   "cell_type": "code",
   "execution_count": 128,
   "metadata": {},
   "outputs": [],
   "source": [
    "result_5b_avg_query_cost = 525.36\n",
    "result_5b_avg_query_timing = 5.826"
   ]
  },
  {
   "cell_type": "code",
   "execution_count": 129,
   "metadata": {
    "deletable": false,
    "editable": false
   },
   "outputs": [
    {
     "data": {
      "text/html": [
       "<p><strong><pre style='display: inline;'>q5bii</pre></strong> passed!</p>"
      ],
      "text/plain": [
       "q5bii results: All test cases passed!"
      ]
     },
     "execution_count": 129,
     "metadata": {},
     "output_type": "execute_result"
    }
   ],
   "source": [
    "grader.check(\"q5bii\")"
   ]
  },
  {
   "cell_type": "markdown",
   "metadata": {},
   "source": [
    "In the following questions, we will further explore the impact of indexes on query performance. To avoid any interference from the index on the `salary` column, drop the index before moving onto the next question."
   ]
  },
  {
   "cell_type": "code",
   "execution_count": 130,
   "metadata": {},
   "outputs": [
    {
     "name": "stdout",
     "output_type": "stream",
     "text": [
      " * postgresql://jovyan@127.0.0.1:5432/baseball\n",
      "   postgresql://jovyan@127.0.0.1:5432/postgres\n",
      "Done.\n"
     ]
    },
    {
     "data": {
      "text/plain": [
       "[]"
      ]
     },
     "execution_count": 130,
     "metadata": {},
     "output_type": "execute_result"
    }
   ],
   "source": [
    "%%sql \n",
    "DROP INDEX salary_idx"
   ]
  },
  {
   "cell_type": "markdown",
   "metadata": {
    "deletable": false,
    "editable": false
   },
   "source": [
    "### Question 5c:\n",
    "Given your findings from `Question 5a-b`, answer the following question. Assign the variable `q5c` to the correct answer choice.\n",
    "\n",
    "1. Which of the following statements is true?\n",
    "    1. An index on the column being aggregated in a query will always provide a performance enhancement.\n",
    "    1. A query finding the MIN(salary) will always benefit from an index on salary, but a query finding MAX(salary) will not.\n",
    "    1. A query finding the COUNT(salary) will always benefit from an index on salary, but a query finding AVG(salary) will not.\n",
    "    1. Queries finding the MIN(salary) or MAX(salary) will always benefit from an index on salary, but queries finding AVG(salary) or COUNT(salary) will not.\n",
    "\n",
    "*Note:* Your answer should be formatted as follows: `q5c = ['A', 'B']`\n",
    "\n",
    "<!--\n",
    "BEGIN QUESTION\n",
    "name: q5c\n",
    "points: 1\n",
    "-->"
   ]
  },
  {
   "cell_type": "code",
   "execution_count": 131,
   "metadata": {},
   "outputs": [],
   "source": [
    "q5c = ['D']"
   ]
  },
  {
   "cell_type": "code",
   "execution_count": 132,
   "metadata": {
    "deletable": false,
    "editable": false
   },
   "outputs": [
    {
     "data": {
      "text/html": [
       "<p><strong><pre style='display: inline;'>q5c</pre></strong> passed!</p>"
      ],
      "text/plain": [
       "q5c results: All test cases passed!"
      ]
     },
     "execution_count": 132,
     "metadata": {},
     "output_type": "execute_result"
    }
   ],
   "source": [
    "grader.check(\"q5c\")"
   ]
  },
  {
   "cell_type": "markdown",
   "metadata": {
    "deletable": false,
    "editable": false
   },
   "source": [
    "<!-- BEGIN QUESTION -->\n",
    "\n",
    "### Question 5d:\n",
    "\n",
    "Explain your answer to the previous part based on your knowledge from lectures, and your inspection of the query plans.\n",
    "\n",
    "<!--\n",
    "BEGIN QUESTION\n",
    "name: q5d\n",
    "manual: true\n",
    "points: 2\n",
    "-->"
   ]
  },
  {
   "cell_type": "markdown",
   "metadata": {},
   "source": [
    "D is true. This is reflected by the lower cost and execution time for the min query and the same cost and execution time for the average query with vs without the index. With the index, our table is ordered by the salary, so extreme values like min and max are very quick to find because we can just go straight to the highest or lowest index. However the index doesn't help for averages or counts because these aggregations involve all of our tuples, so each tuple must be considered, regardless of their value, so indexing them by the value has no effect. Thus A,B, and C are false."
   ]
  },
  {
   "cell_type": "markdown",
   "metadata": {},
   "source": [
    "<!-- END QUESTION -->\n",
    "\n",
    "\n",
    "\n",
    "## Question 6: Clustered Indexes\n",
    "In this question, we will inspect the impact that clustering our data on an index can have on a query's performance.\n",
    "\n",
    "### Question 6a\n",
    "Write a query that finds the `playerid`, `yearid`, `teamid`, and `ab` for all players whose `ab` was above 500. Inspect the query plan and record the execution time and cost."
   ]
  },
  {
   "cell_type": "code",
   "execution_count": 133,
   "metadata": {},
   "outputs": [
    {
     "name": "stdout",
     "output_type": "stream",
     "text": [
      " * postgresql://jovyan@127.0.0.1:5432/baseball\n",
      "   postgresql://jovyan@127.0.0.1:5432/postgres\n",
      "10 rows affected.\n"
     ]
    },
    {
     "data": {
      "text/html": [
       "<table>\n",
       "    <tr>\n",
       "        <th>playerid</th>\n",
       "        <th>yearid</th>\n",
       "        <th>teamid</th>\n",
       "        <th>ab</th>\n",
       "    </tr>\n",
       "    <tr>\n",
       "        <td>dalryab01</td>\n",
       "        <td>1884</td>\n",
       "        <td>CHN</td>\n",
       "        <td>521</td>\n",
       "    </tr>\n",
       "    <tr>\n",
       "        <td>hornujo01</td>\n",
       "        <td>1884</td>\n",
       "        <td>BSN</td>\n",
       "        <td>518</td>\n",
       "    </tr>\n",
       "    <tr>\n",
       "        <td>ansonca01</td>\n",
       "        <td>1886</td>\n",
       "        <td>CHN</td>\n",
       "        <td>504</td>\n",
       "    </tr>\n",
       "    <tr>\n",
       "        <td>bierblo01</td>\n",
       "        <td>1886</td>\n",
       "        <td>PH4</td>\n",
       "        <td>522</td>\n",
       "    </tr>\n",
       "    <tr>\n",
       "        <td>comisch01</td>\n",
       "        <td>1886</td>\n",
       "        <td>SL4</td>\n",
       "        <td>578</td>\n",
       "    </tr>\n",
       "    <tr>\n",
       "        <td>corkhpo01</td>\n",
       "        <td>1886</td>\n",
       "        <td>CN2</td>\n",
       "        <td>540</td>\n",
       "    </tr>\n",
       "    <tr>\n",
       "        <td>gleasbi01</td>\n",
       "        <td>1886</td>\n",
       "        <td>SL4</td>\n",
       "        <td>524</td>\n",
       "    </tr>\n",
       "    <tr>\n",
       "        <td>hankifr01</td>\n",
       "        <td>1886</td>\n",
       "        <td>NY4</td>\n",
       "        <td>522</td>\n",
       "    </tr>\n",
       "    <tr>\n",
       "        <td>larkihe01</td>\n",
       "        <td>1886</td>\n",
       "        <td>PH4</td>\n",
       "        <td>565</td>\n",
       "    </tr>\n",
       "    <tr>\n",
       "        <td>lathaar01</td>\n",
       "        <td>1886</td>\n",
       "        <td>SL4</td>\n",
       "        <td>578</td>\n",
       "    </tr>\n",
       "</table>"
      ],
      "text/plain": [
       "[('dalryab01', 1884, 'CHN', 521),\n",
       " ('hornujo01', 1884, 'BSN', 518),\n",
       " ('ansonca01', 1886, 'CHN', 504),\n",
       " ('bierblo01', 1886, 'PH4', 522),\n",
       " ('comisch01', 1886, 'SL4', 578),\n",
       " ('corkhpo01', 1886, 'CN2', 540),\n",
       " ('gleasbi01', 1886, 'SL4', 524),\n",
       " ('hankifr01', 1886, 'NY4', 522),\n",
       " ('larkihe01', 1886, 'PH4', 565),\n",
       " ('lathaar01', 1886, 'SL4', 578)]"
      ]
     },
     "execution_count": 133,
     "metadata": {},
     "output_type": "execute_result"
    }
   ],
   "source": [
    "%%sql\n",
    "SELECT playerid, yearid, teamid, ab\n",
    "FROM batting\n",
    "WHERE ab > 500\n",
    "LIMIT 10;"
   ]
  },
  {
   "cell_type": "code",
   "execution_count": 134,
   "metadata": {},
   "outputs": [
    {
     "name": "stdout",
     "output_type": "stream",
     "text": [
      " * postgresql://jovyan@127.0.0.1:5432/baseball\n",
      "   postgresql://jovyan@127.0.0.1:5432/postgres\n",
      "8839 rows affected.\n",
      "Returning data to local variable result_6a\n"
     ]
    }
   ],
   "source": [
    "%%sql result_6a <<\n",
    "SELECT playerid, yearid, teamid, ab\n",
    "FROM batting\n",
    "WHERE ab > 500;"
   ]
  },
  {
   "cell_type": "code",
   "execution_count": 135,
   "metadata": {},
   "outputs": [],
   "source": [
    "# Do not delete/edit this cell\n",
    "result_6a.DataFrame().sort_values(['playerid', 'yearid', 'teamid']).iloc[:1000].to_csv('results/result_6a.csv', index=False)"
   ]
  },
  {
   "cell_type": "code",
   "execution_count": 136,
   "metadata": {
    "deletable": false,
    "editable": false
   },
   "outputs": [
    {
     "data": {
      "text/html": [
       "<p><strong><pre style='display: inline;'>q6ai</pre></strong> passed!</p>"
      ],
      "text/plain": [
       "q6ai results: All test cases passed!"
      ]
     },
     "execution_count": 136,
     "metadata": {},
     "output_type": "execute_result"
    }
   ],
   "source": [
    "grader.check(\"q6ai\")"
   ]
  },
  {
   "cell_type": "code",
   "execution_count": 137,
   "metadata": {},
   "outputs": [
    {
     "name": "stdout",
     "output_type": "stream",
     "text": [
      "                                                 QUERY PLAN                                                 \r\n",
      "------------------------------------------------------------------------------------------------------------\r\n",
      " Seq Scan on batting  (cost=0.00..2884.05 rows=8871 width=21) (actual time=0.247..12.883 rows=8839 loops=1)\r\n",
      "   Filter: (ab > 500)\r\n",
      "   Rows Removed by Filter: 95485\r\n",
      " Planning Time: 0.379 ms\r\n",
      " Execution Time: 13.292 ms\r\n",
      "(5 rows)\r\n",
      "\r\n"
     ]
    }
   ],
   "source": [
    "result_6a_query_str = \"SELECT playerid, yearid, teamid, ab FROM batting WHERE ab > 500\"\n",
    "!psql -h localhost -d baseball -c \"explain analyze $result_6a_query_str\""
   ]
  },
  {
   "cell_type": "code",
   "execution_count": 138,
   "metadata": {},
   "outputs": [],
   "source": [
    "result_6a_cost = 2884.05\n",
    "result_6a_timing = 25.536"
   ]
  },
  {
   "cell_type": "code",
   "execution_count": 139,
   "metadata": {
    "deletable": false,
    "editable": false
   },
   "outputs": [
    {
     "data": {
      "text/html": [
       "<p><strong><pre style='display: inline;'>q6aii</pre></strong> passed!</p>"
      ],
      "text/plain": [
       "q6aii results: All test cases passed!"
      ]
     },
     "execution_count": 139,
     "metadata": {},
     "output_type": "execute_result"
    }
   ],
   "source": [
    "grader.check(\"q6aii\")"
   ]
  },
  {
   "cell_type": "code",
   "execution_count": 140,
   "metadata": {},
   "outputs": [
    {
     "name": "stdout",
     "output_type": "stream",
     "text": [
      " * postgresql://jovyan@127.0.0.1:5432/baseball\n",
      "   postgresql://jovyan@127.0.0.1:5432/postgres\n",
      "26 rows affected.\n"
     ]
    },
    {
     "data": {
      "text/html": [
       "<table>\n",
       "    <tr>\n",
       "        <th>Schema</th>\n",
       "        <th>Name</th>\n",
       "        <th>Type</th>\n",
       "        <th>Owner</th>\n",
       "    </tr>\n",
       "    <tr>\n",
       "        <td>public</td>\n",
       "        <td>allstarfull_pkey</td>\n",
       "        <td>index</td>\n",
       "        <td>jovyan</td>\n",
       "    </tr>\n",
       "    <tr>\n",
       "        <td>public</td>\n",
       "        <td>appearances_pkey</td>\n",
       "        <td>index</td>\n",
       "        <td>jovyan</td>\n",
       "    </tr>\n",
       "    <tr>\n",
       "        <td>public</td>\n",
       "        <td>awardsmanagers_pkey</td>\n",
       "        <td>index</td>\n",
       "        <td>jovyan</td>\n",
       "    </tr>\n",
       "    <tr>\n",
       "        <td>public</td>\n",
       "        <td>awardsplayers_pkey</td>\n",
       "        <td>index</td>\n",
       "        <td>jovyan</td>\n",
       "    </tr>\n",
       "    <tr>\n",
       "        <td>public</td>\n",
       "        <td>awardssharemanagers_pkey</td>\n",
       "        <td>index</td>\n",
       "        <td>jovyan</td>\n",
       "    </tr>\n",
       "    <tr>\n",
       "        <td>public</td>\n",
       "        <td>awardsshareplayers_pkey</td>\n",
       "        <td>index</td>\n",
       "        <td>jovyan</td>\n",
       "    </tr>\n",
       "    <tr>\n",
       "        <td>public</td>\n",
       "        <td>batting_pkey</td>\n",
       "        <td>index</td>\n",
       "        <td>jovyan</td>\n",
       "    </tr>\n",
       "    <tr>\n",
       "        <td>public</td>\n",
       "        <td>battingpost_pkey</td>\n",
       "        <td>index</td>\n",
       "        <td>jovyan</td>\n",
       "    </tr>\n",
       "    <tr>\n",
       "        <td>public</td>\n",
       "        <td>collegeplaying_pkey</td>\n",
       "        <td>index</td>\n",
       "        <td>jovyan</td>\n",
       "    </tr>\n",
       "    <tr>\n",
       "        <td>public</td>\n",
       "        <td>fielding_pkey</td>\n",
       "        <td>index</td>\n",
       "        <td>jovyan</td>\n",
       "    </tr>\n",
       "    <tr>\n",
       "        <td>public</td>\n",
       "        <td>fieldingof_pkey</td>\n",
       "        <td>index</td>\n",
       "        <td>jovyan</td>\n",
       "    </tr>\n",
       "    <tr>\n",
       "        <td>public</td>\n",
       "        <td>fieldingpost_pkey</td>\n",
       "        <td>index</td>\n",
       "        <td>jovyan</td>\n",
       "    </tr>\n",
       "    <tr>\n",
       "        <td>public</td>\n",
       "        <td>halloffame_pkey</td>\n",
       "        <td>index</td>\n",
       "        <td>jovyan</td>\n",
       "    </tr>\n",
       "    <tr>\n",
       "        <td>public</td>\n",
       "        <td>homegames_pkey</td>\n",
       "        <td>index</td>\n",
       "        <td>jovyan</td>\n",
       "    </tr>\n",
       "    <tr>\n",
       "        <td>public</td>\n",
       "        <td>managers_pkey</td>\n",
       "        <td>index</td>\n",
       "        <td>jovyan</td>\n",
       "    </tr>\n",
       "    <tr>\n",
       "        <td>public</td>\n",
       "        <td>managershalf_pkey</td>\n",
       "        <td>index</td>\n",
       "        <td>jovyan</td>\n",
       "    </tr>\n",
       "    <tr>\n",
       "        <td>public</td>\n",
       "        <td>master_pkey</td>\n",
       "        <td>index</td>\n",
       "        <td>jovyan</td>\n",
       "    </tr>\n",
       "    <tr>\n",
       "        <td>public</td>\n",
       "        <td>parks_pkey</td>\n",
       "        <td>index</td>\n",
       "        <td>jovyan</td>\n",
       "    </tr>\n",
       "    <tr>\n",
       "        <td>public</td>\n",
       "        <td>pitching_pkey</td>\n",
       "        <td>index</td>\n",
       "        <td>jovyan</td>\n",
       "    </tr>\n",
       "    <tr>\n",
       "        <td>public</td>\n",
       "        <td>pitchingpost_pkey</td>\n",
       "        <td>index</td>\n",
       "        <td>jovyan</td>\n",
       "    </tr>\n",
       "    <tr>\n",
       "        <td>public</td>\n",
       "        <td>salaries_pkey</td>\n",
       "        <td>index</td>\n",
       "        <td>jovyan</td>\n",
       "    </tr>\n",
       "    <tr>\n",
       "        <td>public</td>\n",
       "        <td>schools_pkey</td>\n",
       "        <td>index</td>\n",
       "        <td>jovyan</td>\n",
       "    </tr>\n",
       "    <tr>\n",
       "        <td>public</td>\n",
       "        <td>seriespost_pkey</td>\n",
       "        <td>index</td>\n",
       "        <td>jovyan</td>\n",
       "    </tr>\n",
       "    <tr>\n",
       "        <td>public</td>\n",
       "        <td>teams_pkey</td>\n",
       "        <td>index</td>\n",
       "        <td>jovyan</td>\n",
       "    </tr>\n",
       "    <tr>\n",
       "        <td>public</td>\n",
       "        <td>teamsfranchises_pkey</td>\n",
       "        <td>index</td>\n",
       "        <td>jovyan</td>\n",
       "    </tr>\n",
       "    <tr>\n",
       "        <td>public</td>\n",
       "        <td>teamshalf_pkey</td>\n",
       "        <td>index</td>\n",
       "        <td>jovyan</td>\n",
       "    </tr>\n",
       "</table>"
      ],
      "text/plain": [
       "[('public', 'allstarfull_pkey', 'index', 'jovyan'),\n",
       " ('public', 'appearances_pkey', 'index', 'jovyan'),\n",
       " ('public', 'awardsmanagers_pkey', 'index', 'jovyan'),\n",
       " ('public', 'awardsplayers_pkey', 'index', 'jovyan'),\n",
       " ('public', 'awardssharemanagers_pkey', 'index', 'jovyan'),\n",
       " ('public', 'awardsshareplayers_pkey', 'index', 'jovyan'),\n",
       " ('public', 'batting_pkey', 'index', 'jovyan'),\n",
       " ('public', 'battingpost_pkey', 'index', 'jovyan'),\n",
       " ('public', 'collegeplaying_pkey', 'index', 'jovyan'),\n",
       " ('public', 'fielding_pkey', 'index', 'jovyan'),\n",
       " ('public', 'fieldingof_pkey', 'index', 'jovyan'),\n",
       " ('public', 'fieldingpost_pkey', 'index', 'jovyan'),\n",
       " ('public', 'halloffame_pkey', 'index', 'jovyan'),\n",
       " ('public', 'homegames_pkey', 'index', 'jovyan'),\n",
       " ('public', 'managers_pkey', 'index', 'jovyan'),\n",
       " ('public', 'managershalf_pkey', 'index', 'jovyan'),\n",
       " ('public', 'master_pkey', 'index', 'jovyan'),\n",
       " ('public', 'parks_pkey', 'index', 'jovyan'),\n",
       " ('public', 'pitching_pkey', 'index', 'jovyan'),\n",
       " ('public', 'pitchingpost_pkey', 'index', 'jovyan'),\n",
       " ('public', 'salaries_pkey', 'index', 'jovyan'),\n",
       " ('public', 'schools_pkey', 'index', 'jovyan'),\n",
       " ('public', 'seriespost_pkey', 'index', 'jovyan'),\n",
       " ('public', 'teams_pkey', 'index', 'jovyan'),\n",
       " ('public', 'teamsfranchises_pkey', 'index', 'jovyan'),\n",
       " ('public', 'teamshalf_pkey', 'index', 'jovyan')]"
      ]
     },
     "execution_count": 140,
     "metadata": {},
     "output_type": "execute_result"
    }
   ],
   "source": [
    "%sql \\di"
   ]
  },
  {
   "cell_type": "markdown",
   "metadata": {},
   "source": [
    "### Question 6b:\n",
    "Cluster the `batting` table on its primary key (hint: use `\\di` to find out what name of the primary key is). We are able to directly cluster on the primary key (without first creating a separate index) because Postgres automatically creates an index for it. Re-inspect the query plan for the query from `Question 6a` and record the execution time and cost."
   ]
  },
  {
   "cell_type": "code",
   "execution_count": 141,
   "metadata": {},
   "outputs": [
    {
     "name": "stdout",
     "output_type": "stream",
     "text": [
      " * postgresql://jovyan@127.0.0.1:5432/baseball\n",
      "   postgresql://jovyan@127.0.0.1:5432/postgres\n",
      "Done.\n"
     ]
    },
    {
     "data": {
      "text/plain": [
       "[]"
      ]
     },
     "execution_count": 141,
     "metadata": {},
     "output_type": "execute_result"
    }
   ],
   "source": [
    "%%sql \n",
    "CLUSTER batting USING batting_pkey "
   ]
  },
  {
   "cell_type": "code",
   "execution_count": 142,
   "metadata": {},
   "outputs": [
    {
     "name": "stdout",
     "output_type": "stream",
     "text": [
      "                                                 QUERY PLAN                                                 \r\n",
      "------------------------------------------------------------------------------------------------------------\r\n",
      " Seq Scan on batting  (cost=0.00..2878.05 rows=8871 width=21) (actual time=0.013..16.397 rows=8839 loops=1)\r\n",
      "   Filter: (ab > 500)\r\n",
      "   Rows Removed by Filter: 95485\r\n",
      " Planning Time: 0.403 ms\r\n",
      " Execution Time: 16.807 ms\r\n",
      "(5 rows)\r\n",
      "\r\n"
     ]
    }
   ],
   "source": [
    "!psql -h localhost -d baseball -c \"explain analyze $result_6a_query_str\""
   ]
  },
  {
   "cell_type": "code",
   "execution_count": 143,
   "metadata": {},
   "outputs": [],
   "source": [
    "result_6b_cost = 2878.05\n",
    "result_6b_timing = 16.191"
   ]
  },
  {
   "cell_type": "code",
   "execution_count": 144,
   "metadata": {
    "deletable": false,
    "editable": false
   },
   "outputs": [
    {
     "data": {
      "text/html": [
       "<p><strong><pre style='display: inline;'>q6b</pre></strong> passed!</p>"
      ],
      "text/plain": [
       "q6b results: All test cases passed!"
      ]
     },
     "execution_count": 144,
     "metadata": {},
     "output_type": "execute_result"
    }
   ],
   "source": [
    "grader.check(\"q6b\")"
   ]
  },
  {
   "cell_type": "markdown",
   "metadata": {},
   "source": [
    "### Question 6c\n",
    "Now, let's try clustering the table based on another index. Create an index on `ab` column called `ab_idx` in the `batting` table AND cluster the `batting` table with this new index. Now, re-inspect the query plan and record the execution time and cost."
   ]
  },
  {
   "cell_type": "code",
   "execution_count": 145,
   "metadata": {},
   "outputs": [
    {
     "name": "stdout",
     "output_type": "stream",
     "text": [
      " * postgresql://jovyan@127.0.0.1:5432/baseball\n",
      "   postgresql://jovyan@127.0.0.1:5432/postgres\n",
      "Done.\n",
      "Done.\n"
     ]
    },
    {
     "data": {
      "text/plain": [
       "[]"
      ]
     },
     "execution_count": 145,
     "metadata": {},
     "output_type": "execute_result"
    }
   ],
   "source": [
    "%%sql \n",
    "CREATE INDEX ab_idx ON batting(ab);\n",
    "CLUSTER batting USING ab_idx;"
   ]
  },
  {
   "cell_type": "code",
   "execution_count": 146,
   "metadata": {},
   "outputs": [
    {
     "name": "stdout",
     "output_type": "stream",
     "text": [
      "                                                      QUERY PLAN                                                      \r\n",
      "----------------------------------------------------------------------------------------------------------------------\r\n",
      " Bitmap Heap Scan on batting  (cost=101.04..1786.93 rows=8871 width=21) (actual time=0.324..1.911 rows=8839 loops=1)\r\n",
      "   Recheck Cond: (ab > 500)\r\n",
      "   Heap Blocks: exact=135\r\n",
      "   ->  Bitmap Index Scan on ab_idx  (cost=0.00..98.83 rows=8871 width=0) (actual time=0.290..0.290 rows=8839 loops=1)\r\n",
      "         Index Cond: (ab > 500)\r\n",
      " Planning Time: 0.540 ms\r\n",
      " Execution Time: 2.313 ms\r\n",
      "(7 rows)\r\n",
      "\r\n"
     ]
    }
   ],
   "source": [
    "!psql -h localhost -d baseball -c \"explain analyze $result_6a_query_str\""
   ]
  },
  {
   "cell_type": "code",
   "execution_count": 147,
   "metadata": {},
   "outputs": [],
   "source": [
    "result_6c_cost = 1787.68\n",
    "result_6c_timing = 2.429"
   ]
  },
  {
   "cell_type": "code",
   "execution_count": 148,
   "metadata": {
    "deletable": false,
    "editable": false
   },
   "outputs": [
    {
     "data": {
      "text/html": [
       "<p><strong><pre style='display: inline;'>q6c</pre></strong> passed!</p>"
      ],
      "text/plain": [
       "q6c results: All test cases passed!"
      ]
     },
     "execution_count": 148,
     "metadata": {},
     "output_type": "execute_result"
    }
   ],
   "source": [
    "grader.check(\"q6c\")"
   ]
  },
  {
   "cell_type": "markdown",
   "metadata": {
    "deletable": false,
    "editable": false
   },
   "source": [
    "### Question 6d\n",
    "Given your findings from inspecting the query plans from `Question 6a-c`, answer the following question. Assign the variable `q6d` to a list of all statements that are true.\n",
    "\n",
    "1. Consider the following statements:\n",
    "    1. Clustering based on the `ab_idx` decreased the cost of the query.\n",
    "    1. Clustering based on the `ab_idx` increased the cost of the query.\n",
    "    1. Clustering based on the `ab_idx` increased the execution time of the query.\n",
    "    1. Clustering based on the `ab_idx` decreased the execution time of the query.\n",
    "    1. Clustering based on the `batting_pkey` decreased the cost of the query.\n",
    "    1. Clustering based on the `batting_pkey` increased the cost of the query.\n",
    "    1. Clustering based on the `batting_pkey` increased the execution time of the query.\n",
    "    1. Clustering based on the `batting_pkey` decreased the execution time of the query.\n",
    "    1. None of the above\n",
    "    \n",
    "**Note:** Your answer should be formatted as follows: `q6d = ['A', 'B']`\n",
    "\n",
    "<!--\n",
    "BEGIN QUESTION\n",
    "name: q6d\n",
    "points: 2\n",
    "-->"
   ]
  },
  {
   "cell_type": "code",
   "execution_count": 149,
   "metadata": {},
   "outputs": [],
   "source": [
    "q6d = ['A', 'D']"
   ]
  },
  {
   "cell_type": "code",
   "execution_count": 150,
   "metadata": {
    "deletable": false,
    "editable": false
   },
   "outputs": [
    {
     "data": {
      "text/html": [
       "<p><strong><pre style='display: inline;'>q6d</pre></strong> passed!</p>"
      ],
      "text/plain": [
       "q6d results: All test cases passed!"
      ]
     },
     "execution_count": 150,
     "metadata": {},
     "output_type": "execute_result"
    }
   ],
   "source": [
    "grader.check(\"q6d\")"
   ]
  },
  {
   "cell_type": "code",
   "execution_count": 151,
   "metadata": {},
   "outputs": [
    {
     "name": "stdout",
     "output_type": "stream",
     "text": [
      " * postgresql://jovyan@127.0.0.1:5432/baseball\n",
      "   postgresql://jovyan@127.0.0.1:5432/postgres\n",
      "Done.\n"
     ]
    },
    {
     "data": {
      "text/plain": [
       "[]"
      ]
     },
     "execution_count": 151,
     "metadata": {},
     "output_type": "execute_result"
    }
   ],
   "source": [
    "%%sql\n",
    "DROP INDEX ab_idx"
   ]
  },
  {
   "cell_type": "markdown",
   "metadata": {
    "deletable": false,
    "editable": false
   },
   "source": [
    "<!-- BEGIN QUESTION -->\n",
    "\n",
    "### Question 6e:\n",
    "\n",
    "Explain your answer to the previous part based on your knowledge from lectures, and your inspection of the query plans (your explanation should include why you didn't choose certain options).\n",
    "\n",
    "<!--\n",
    "BEGIN QUESTION\n",
    "name: q6e\n",
    "manual: true\n",
    "points: 2\n",
    "-->"
   ]
  },
  {
   "cell_type": "markdown",
   "metadata": {},
   "source": [
    "A and D are true. This is reflected by the query plan details showing that clusting using ab_idx did reduce query cost and execution time. This because we were filtering by ab>500, and having our data ordered by ab allowed us to skip to indexes with a higher ab. Thus B and C are false, and I is also false.\n",
    "\n",
    "E,F,G, and H are all false. This is shown by the query plan being the same for with the cluster by batting_pkey vs without the clustering. This is because our filter was based on the value of ab, which in each tuple is unrelated to the batting_pkey, so having our tuples sorted by the batting_pkey had no effect on the way we find the tuples with ab>500, thus we had to do a sequential scan exactly the same as without the clustering"
   ]
  },
  {
   "cell_type": "markdown",
   "metadata": {},
   "source": [
    "<!-- END QUESTION -->\n",
    "\n",
    "\n",
    "\n",
    "## Question 7: Cost of Index Management\n",
    "Until now, we have seen the positive potential impact that indexes can have on query performance, but remember in real world technologies/applications, we will be routinely receiving new data (and in large quantities) which would trigger regular updates to our tables. In this section, we will dive into the cost of managing the indexes that we create.\n",
    "\n",
    "### Question 7a:\n",
    "Record the time it takes to insert 300,000 rows into the `salaries` table when no additional index is configured."
   ]
  },
  {
   "cell_type": "markdown",
   "metadata": {},
   "source": [
    "Run the following cell to setup a column to track which rows we added as part of these inserts."
   ]
  },
  {
   "cell_type": "code",
   "execution_count": 152,
   "metadata": {},
   "outputs": [
    {
     "name": "stdout",
     "output_type": "stream",
     "text": [
      " * postgresql://jovyan@127.0.0.1:5432/baseball\n",
      "   postgresql://jovyan@127.0.0.1:5432/postgres\n",
      "Done.\n"
     ]
    },
    {
     "data": {
      "text/plain": [
       "[]"
      ]
     },
     "execution_count": 152,
     "metadata": {},
     "output_type": "execute_result"
    }
   ],
   "source": [
    "%sql ALTER TABLE salaries ADD added boolean DEFAULT False;"
   ]
  },
  {
   "cell_type": "markdown",
   "metadata": {},
   "source": [
    "Next, run the provided update script and record the **wall time**.\n",
    "\n",
    "**NOTE:** Running the below cell multiple times may result in an error, unless you first delete the rows with the cell given at the end of this subpart."
   ]
  },
  {
   "cell_type": "code",
   "execution_count": 153,
   "metadata": {},
   "outputs": [
    {
     "name": "stdout",
     "output_type": "stream",
     "text": [
      " * postgresql://jovyan@127.0.0.1:5432/baseball\n",
      "   postgresql://jovyan@127.0.0.1:5432/postgres\n",
      "Done.\n",
      "CPU times: user 5.4 ms, sys: 1.19 ms, total: 6.59 ms\n",
      "Wall time: 3.75 s\n"
     ]
    },
    {
     "data": {
      "text/plain": [
       "[]"
      ]
     },
     "execution_count": 153,
     "metadata": {},
     "output_type": "execute_result"
    }
   ],
   "source": [
    "%%time\n",
    "%%sql\n",
    "DO $$\n",
    " DECLARE counter INTEGER := 1;\n",
    " BEGIN\n",
    "     FOR counter IN 100001..400000 LOOP\n",
    "     INSERT INTO salaries (yearid, teamid, lgid, playerid, salary, added)\n",
    "         VALUES (2021, 'ATL', 'NL', 'p' || counter, RANDOM() * 1000000, true);\n",
    "     END LOOP;\n",
    "END;\n",
    "$$;"
   ]
  },
  {
   "cell_type": "code",
   "execution_count": 154,
   "metadata": {},
   "outputs": [],
   "source": [
    "result_7a_timing = 3.81"
   ]
  },
  {
   "cell_type": "code",
   "execution_count": 155,
   "metadata": {
    "deletable": false,
    "editable": false
   },
   "outputs": [
    {
     "data": {
      "text/html": [
       "<p><strong><pre style='display: inline;'>q7a</pre></strong> passed!</p>"
      ],
      "text/plain": [
       "q7a results: All test cases passed!"
      ]
     },
     "execution_count": 155,
     "metadata": {},
     "output_type": "execute_result"
    }
   ],
   "source": [
    "grader.check(\"q7a\")"
   ]
  },
  {
   "cell_type": "markdown",
   "metadata": {},
   "source": [
    "Before adding an index to the salaries table and re-timing the updates, delete all the rows that were added to the table from the update script."
   ]
  },
  {
   "cell_type": "code",
   "execution_count": 156,
   "metadata": {},
   "outputs": [
    {
     "name": "stdout",
     "output_type": "stream",
     "text": [
      " * postgresql://jovyan@127.0.0.1:5432/baseball\n",
      "   postgresql://jovyan@127.0.0.1:5432/postgres\n",
      "300000 rows affected.\n"
     ]
    },
    {
     "data": {
      "text/plain": [
       "[]"
      ]
     },
     "execution_count": 156,
     "metadata": {},
     "output_type": "execute_result"
    }
   ],
   "source": [
    "%%sql\n",
    "DELETE FROM salaries\n",
    "WHERE added = 'true';"
   ]
  },
  {
   "cell_type": "markdown",
   "metadata": {},
   "source": [
    "### Question 7b:\n",
    "Now, create an index on the `salary` column and record the **wall time** after executing the update script."
   ]
  },
  {
   "cell_type": "code",
   "execution_count": 157,
   "metadata": {},
   "outputs": [
    {
     "name": "stdout",
     "output_type": "stream",
     "text": [
      " * postgresql://jovyan@127.0.0.1:5432/baseball\n",
      "   postgresql://jovyan@127.0.0.1:5432/postgres\n",
      "Done.\n"
     ]
    },
    {
     "data": {
      "text/plain": [
       "[]"
      ]
     },
     "execution_count": 157,
     "metadata": {},
     "output_type": "execute_result"
    }
   ],
   "source": [
    "%%sql \n",
    "CREATE INDEX salary_idx ON salaries(salary)"
   ]
  },
  {
   "cell_type": "markdown",
   "metadata": {},
   "source": [
    "**NOTE:** Running the below cell multiple times may result in an error, unless you first delete the rows with the cell given at the end of last subpart."
   ]
  },
  {
   "cell_type": "code",
   "execution_count": 158,
   "metadata": {},
   "outputs": [
    {
     "name": "stdout",
     "output_type": "stream",
     "text": [
      " * postgresql://jovyan@127.0.0.1:5432/baseball\n",
      "   postgresql://jovyan@127.0.0.1:5432/postgres\n",
      "Done.\n",
      "CPU times: user 3.67 ms, sys: 3.37 ms, total: 7.04 ms\n",
      "Wall time: 6.58 s\n"
     ]
    },
    {
     "data": {
      "text/plain": [
       "[]"
      ]
     },
     "execution_count": 158,
     "metadata": {},
     "output_type": "execute_result"
    }
   ],
   "source": [
    "%%time\n",
    "%%sql\n",
    "DO $$\n",
    " DECLARE counter INTEGER := 1;\n",
    " BEGIN\n",
    "     FOR counter IN 100001..400000 LOOP\n",
    "     INSERT INTO salaries (yearid, teamid, lgid, playerid, salary, added)\n",
    "         VALUES (2021, 'ATL', 'NL', 'p' || counter, RANDOM() * 1000000, true);\n",
    "     END LOOP;\n",
    "END;\n",
    "$$;"
   ]
  },
  {
   "cell_type": "code",
   "execution_count": 159,
   "metadata": {},
   "outputs": [],
   "source": [
    "result_7b_timing = 5.81"
   ]
  },
  {
   "cell_type": "code",
   "execution_count": 160,
   "metadata": {
    "deletable": false,
    "editable": false
   },
   "outputs": [
    {
     "data": {
      "text/html": [
       "<p><strong><pre style='display: inline;'>q7b</pre></strong> passed!</p>"
      ],
      "text/plain": [
       "q7b results: All test cases passed!"
      ]
     },
     "execution_count": 160,
     "metadata": {},
     "output_type": "execute_result"
    }
   ],
   "source": [
    "grader.check(\"q7b\")"
   ]
  },
  {
   "cell_type": "markdown",
   "metadata": {
    "deletable": false,
    "editable": false
   },
   "source": [
    "<!-- BEGIN QUESTION -->\n",
    "\n",
    "### Question 7c:\n",
    "What difference did you notice when you added an index into the salaries table and re-timed the update? Why do you think it happened?\n",
    "\n",
    "<!--\n",
    "BEGIN QUESTION\n",
    "name: q7c\n",
    "manual: true\n",
    "points: 2\n",
    "-->"
   ]
  },
  {
   "cell_type": "markdown",
   "metadata": {},
   "source": [
    "With the index on on salary, our update time was longer. This is because with the index added on salary, when adding our new tuples that contain random salary values, for each tuple we must find in our table the correct spot to place it with respect to the salary value of all other tuples already present in order to maintain correct index ordering, where without the index, we could insert the new tuples anywhere into the table regardless of it's salary value."
   ]
  },
  {
   "cell_type": "markdown",
   "metadata": {
    "deletable": false,
    "editable": false
   },
   "source": [
    "<!-- END QUESTION -->\n",
    "\n",
    "<!-- BEGIN QUESTION -->\n",
    "\n",
    "## Question 8: Takeaway\n",
    "\n",
    "In this project, we explored how the database system optimizes query execution and how users can futher tune the performance of their queries.\n",
    "\n",
    "Familiarizing yourself with these optimization and tuning methods will make you a better data engineer. In this question, we'll ask you to recall and summarize these concepts. Who knows? Maybe one day it will help you during an interview or on a project.\n",
    "\n",
    "In the following answer cell,\n",
    "1. Name 3 methods you learned in this project. The method can be either the optimization done by the database system, or the fine tuning done by the user.\n",
    "2. For each method, summarize how and why it can optimize query performance. Feel free to discuss any drawbacks, if applicable.\n",
    "\n",
    "<!--\n",
    "BEGIN QUESTION\n",
    "name: q8\n",
    "manual: true\n",
    "points: 6\n",
    "-->"
   ]
  },
  {
   "cell_type": "markdown",
   "metadata": {},
   "source": [
    "1) Use of materialized views\n",
    "If there are relations in our database that we are joining, or aggregating on, when the relations are very large, these operations can become very costly and time consuming. This can be very problematic if we are frequently doing these operations. One way to reduce cost and execution time is to use a materialized view. The materialized view can allow us to pre-compute expensive joins and aggregations, so we can reference them over and over again, without the associated cost. They also have the added benefit of being able to be refreshed when the underlying tables they are built on change. This gives them an advantage over simply making a new table. If we are using the same subquery very often in different operations, replacing the subquery with a materialized view can give a significant speed up to all operations that use that subquery. If we have a subquery that joins multiple large tables or aggregates large tables, but the result contains few rows, then the materialized view won't take up much space and is a good choice. However materialized views should not be used if the base tables change frequently as constant updates will be expensive, in this case a virtual view or simple subquery would be better.\n",
    "\n",
    "2) Use of indexes\n",
    "If we have an attribute in our table that we often use to filter by, then creating an index on that attribute can reduce cost and execution time of operations that condition on it. The index allows the optimizer to go directly to data pages that have the values of the attribute we are looking for, without having to sequentially scan all the tuples in our table, which can be especially helpful if the attribute has a very high cardinality. In the case where we are joining on this attribute, then we need only consider a much smaller subset of our data pages that contain the desired value, increasing join speed. They also allow us to compute min and max aggregations very quickly by simply going to the highest or lowest index. Sorting speed is also increased because we already have pointers that are sorted by the attributes values. All these benefits can be extended with multicolumn indexes, while still retaining all the desired index properties of the first attribute by the structuring of multicolumn indexes. However if we are inserting into our table many widely ranging values of an attribute we have an index on, then we must insert at the right spot to preserve the index integrity, which can become very costly to maintain.\n",
    "\n",
    "3) Join Selection\n",
    "The query optimizer can look at conditions not related to the attribute being joined on, and select a join based on subsequent operations. For example if we are performing a equality join on an attribute, then ordering by that attribute, the query optimizer can pick a merge-join, which will always have a sorted output, therefore skipping the need to sort the result if a hash join was used, speeding up our query. Also if our join attribute is already sorted in our tables by an index, merge join can be very fast by exploiting the index order. The optimizer can also pick a nested loop join if one of our relations is so small that the inner loop is not executed very often, increasing speed by skipping the preprocessing required by a hash join or merge join. If one table can be hashed into working memory, then hash join will be selected because preprocessing one side, then scanning and probing the hash table will usually be faster than nested loops double scan and merge sort preprocessing both relations. By using these estimates of hashing time or scanning time, the optimizer will usually always select the fastest option. However if the estimates by the optimizer are wrong, then joins like nested loop can be wrongly selected and dramatically increase cost and time.\n"
   ]
  },
  {
   "cell_type": "markdown",
   "metadata": {},
   "source": [
    "<!-- END QUESTION -->\n",
    "\n",
    "\n",
    "\n",
    "## Congratulations! You have finished Project 2.\n",
    "\n",
    "Run the following cell to zip and download the results of your queries. You will also need to run the export cell at the end of the notebook.\n",
    "\n",
    "**Please save your notebook before exporting (this is a good time to do it!)** Otherwise, we may not be able to register your written responses.\n",
    "\n",
    "**For submission on Gradescope, you will need to submit BOTH the proj2.zip file genreated by the export cell and the results.zip file generated by the following cell.**\n",
    "\n",
    "**Common submission issues:** You MUST submit the generated zip files (not folders) to the autograder. However, Safari is known to automatically unzip files upon downloading. You can fix this by going into Safari preferences, and deselect the box with the text \"Open safe files after downloading\" under the \"General\" tab. If you experience issues with downloading via clicking on the link, you can also navigate to the project 2 directory within JupyterHub (remove `proj2.ipynb` from the url), and manually download the generated zip files. Please post on Ed if you encounter any other submission issues."
   ]
  },
  {
   "cell_type": "code",
   "execution_count": null,
   "metadata": {
    "scrolled": true
   },
   "outputs": [],
   "source": [
    "from IPython.display import display, FileLink\n",
    "\n",
    "!zip -r results.zip results\n",
    "results_file = FileLink('./results.zip', result_html_prefix=\"Click here to download: \")\n",
    "display(results_file)"
   ]
  },
  {
   "cell_type": "markdown",
   "metadata": {
    "deletable": false,
    "editable": false
   },
   "source": [
    "---\n",
    "\n",
    "To double-check your work, the cell below will rerun all of the autograder tests."
   ]
  },
  {
   "cell_type": "code",
   "execution_count": null,
   "metadata": {
    "deletable": false,
    "editable": false
   },
   "outputs": [],
   "source": [
    "grader.check_all()"
   ]
  },
  {
   "cell_type": "markdown",
   "metadata": {
    "deletable": false,
    "editable": false
   },
   "source": [
    "## Submission\n",
    "\n",
    "Make sure you have run all cells in your notebook in order before running the cell below, so that all images/graphs appear in the output. The cell below will generate a zip file for you to submit. **Please save before exporting!**"
   ]
  },
  {
   "cell_type": "code",
   "execution_count": null,
   "metadata": {
    "deletable": false,
    "editable": false
   },
   "outputs": [],
   "source": [
    "# Save your notebook first, then run this cell to export your submission.\n",
    "grader.export()"
   ]
  },
  {
   "cell_type": "markdown",
   "metadata": {},
   "source": [
    " "
   ]
  }
 ],
 "metadata": {
  "kernelspec": {
   "display_name": "Python 3 (ipykernel)",
   "language": "python",
   "name": "python3"
  },
  "language_info": {
   "codemirror_mode": {
    "name": "ipython",
    "version": 3
   },
   "file_extension": ".py",
   "mimetype": "text/x-python",
   "name": "python",
   "nbconvert_exporter": "python",
   "pygments_lexer": "ipython3",
   "version": "3.9.12"
  }
 },
 "nbformat": 4,
 "nbformat_minor": 4
}
